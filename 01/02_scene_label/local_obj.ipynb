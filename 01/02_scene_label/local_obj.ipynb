{
 "cells": [
  {
   "cell_type": "markdown",
   "metadata": {},
   "source": [
    "#### Available scene list"
   ]
  },
  {
   "cell_type": "code",
   "execution_count": 10,
   "metadata": {},
   "outputs": [],
   "source": [
    "import json\n",
    "\n",
    "    \n",
    "f = open('../scene.json', \"r\")\n",
    "scene_json = json.load(f)\n",
    "\n",
    "scene_list = list(scene_json.keys())\n",
    "scene_dict = scene_json"
   ]
  },
  {
   "cell_type": "markdown",
   "metadata": {},
   "source": [
    "#### Visualize object within area on map"
   ]
  },
  {
   "cell_type": "markdown",
   "metadata": {},
   "source": [
    "#### Label object within area on map"
   ]
  },
  {
   "cell_type": "code",
   "execution_count": 11,
   "metadata": {},
   "outputs": [],
   "source": [
    "import sys\n",
    "sys.path.append(\"..\")\n",
    "\n",
    "from utils.read_obj_json import read_obj_json\n",
    "from utils.read_area_xml import read_area_xml\n",
    "\n",
    "def label_area_obj(s_idx, r_idx):\n",
    "    \"\"\"\n",
    "    Visualize objects on scene map\n",
    "\n",
    "    Args:\n",
    "        s_idx (int): identifier of scene\n",
    "    \"\"\"\n",
    "        \n",
    "    scene_id = scene_list[s_idx]\n",
    "\n",
    "    # Read area boundary from xml file\n",
    "    ds_pth = f\"E:/Workspace/Datasets/iGibson-dataset/iGibson-area2/\"\n",
    "    xml_pth = f\"{ds_pth}/{scene_id}/{r_idx}/{scene_id}.xml\"\n",
    "    xml_data = read_area_xml(xml_pth)[0]\n",
    "    x_min = xml_data[0]\n",
    "    y_min = xml_data[1]\n",
    "    x_max = xml_data[2]\n",
    "    y_max = xml_data[3]\n",
    "\n",
    "    # Read object information from json file\n",
    "    ds_pth = \"E:/Workspace/Datasets/iGibson-dataset/iGibson-map/\"\n",
    "    obj_pth = f\"{ds_pth}/{scene_id}/{scene_id}.json\"\n",
    "    obj_data = read_obj_json(obj_pth)\n",
    "\n",
    "    # Translate object position to map coordinate\n",
    "    scene_trans = scene_dict[scene_id]\n",
    "\n",
    "    obj_sub = []\n",
    "\n",
    "    for obj_item in obj_data:\n",
    "\n",
    "        obj_center_x = float(obj_item[1]) * scene_trans[2] + scene_trans[0]\n",
    "        obj_center_y = float(obj_item[2]) * scene_trans[2] + scene_trans[1]\n",
    "        \n",
    "        if x_min < obj_center_x < x_max and y_min < obj_center_y < y_max:\n",
    "            \n",
    "            obj_sub.append([obj_item[0],obj_item[1],obj_item[2],obj_item[3],obj_item[4],obj_item[5],obj_item[6]])\n",
    "        \n",
    "    print(f\"Area {r_idx} has {len(obj_sub)} objects\")\n",
    "\n",
    "    # Save map image\n",
    "    ds_pth = f\"E:/Workspace/Datasets/iGibson-dataset/iGibson-area/\"\n",
    "    \n",
    "    # Output result to txt file\n",
    "    output_fp = open(f\"{ds_pth}/{scene_id}/{r_idx}/map_obj.txt\", \"w\", encoding=\"utf-8\")\n",
    "    \n",
    "    for obj_item in obj_sub:\n",
    "        \n",
    "        output_fp.write(f\"{obj_item[0]},{obj_item[1]},{obj_item[2]},{obj_item[3]},{obj_item[4]},{obj_item[5]},{obj_item[6]}\\n\")"
   ]
  },
  {
   "cell_type": "code",
   "execution_count": 12,
   "metadata": {},
   "outputs": [
    {
     "name": "stdout",
     "output_type": "stream",
     "text": [
      "Beechwood_1_int 0\n",
      "JSON file consists 97 objects\n",
      "Area 0 has 22 objects\n",
      "Beechwood_1_int 1\n",
      "JSON file consists 97 objects\n",
      "Area 1 has 19 objects\n",
      "Beechwood_1_int 2\n",
      "JSON file consists 97 objects\n",
      "Area 2 has 10 objects\n",
      "Beechwood_1_int 3\n",
      "JSON file consists 97 objects\n",
      "Area 3 has 14 objects\n",
      "Beechwood_1_int 4\n",
      "JSON file consists 97 objects\n",
      "Area 4 has 21 objects\n"
     ]
    }
   ],
   "source": [
    "s_idx = 1\n",
    "for r_idx in range(5):\n",
    "    \n",
    "    print(f\"{scene_list[s_idx]} {r_idx}\")    \n",
    "    label_area_obj(s_idx, r_idx)\n",
    "\n",
    "# s_idx = 3\n",
    "# for r_idx in range(2):\n",
    "    \n",
    "#     print(f\"{scene_list[s_idx]} {r_idx}\")    \n",
    "#     label_area_obj(s_idx, r_idx)\n",
    "    \n",
    "# s_idx = 4\n",
    "# for r_idx in range(6):\n",
    "    \n",
    "#     print(f\"{scene_list[s_idx]} {r_idx}\")    \n",
    "#     label_area_obj(s_idx, r_idx)\n",
    "    \n",
    "# s_idx = 5\n",
    "# for r_idx in range(3):\n",
    "    \n",
    "#     print(f\"{scene_list[s_idx]} {r_idx}\")    \n",
    "#     label_area_obj(s_idx, r_idx)\n",
    "\n",
    "# s_idx = 6\n",
    "# for r_idx in range(6):\n",
    "    \n",
    "#     print(f\"{scene_list[s_idx]} {r_idx}\")    \n",
    "#     label_area_obj(s_idx, r_idx)\n"
   ]
  }
 ],
 "metadata": {
  "kernelspec": {
   "display_name": "igibson",
   "language": "python",
   "name": "python3"
  },
  "language_info": {
   "codemirror_mode": {
    "name": "ipython",
    "version": 3
   },
   "file_extension": ".py",
   "mimetype": "text/x-python",
   "name": "python",
   "nbconvert_exporter": "python",
   "pygments_lexer": "ipython3",
   "version": "3.8.18"
  }
 },
 "nbformat": 4,
 "nbformat_minor": 2
}

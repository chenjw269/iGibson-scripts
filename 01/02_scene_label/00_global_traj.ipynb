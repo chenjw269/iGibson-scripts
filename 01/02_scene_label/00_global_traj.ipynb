{
 "cells": [
  {
   "cell_type": "markdown",
   "metadata": {},
   "source": [
    "#### Available scene list"
   ]
  },
  {
   "cell_type": "code",
   "execution_count": 11,
   "metadata": {},
   "outputs": [],
   "source": [
    "import json\n",
    "\n",
    "\n",
    "f = open('../01_scene_list/scene.json', \"r\")\n",
    "scene_json = json.load(f)\n",
    "\n",
    "# Available scene list\n",
    "scene_list = list(scene_json.keys())\n",
    "\n",
    "# Coordinate conversion\n",
    "scene_dict = scene_json\n",
    "\n",
    "f.close()"
   ]
  },
  {
   "cell_type": "markdown",
   "metadata": {},
   "source": [
    "#### Visualize global trajectory"
   ]
  },
  {
   "cell_type": "code",
   "execution_count": 12,
   "metadata": {},
   "outputs": [],
   "source": [
    "import os\n",
    "\n",
    "from PIL import Image\n",
    "import matplotlib.pyplot as plt\n",
    "\n",
    "\n",
    "def visualize_traj(s_idx):\n",
    "    \"\"\"\n",
    "    Visualize trajectory on scene map\n",
    "\n",
    "    Args:\n",
    "        s_idx (int): identifier of scene\n",
    "    \"\"\"\n",
    "    \n",
    "    scene_id = scene_list[s_idx]\n",
    "    fig, ax = plt.subplots()\n",
    "    ax.xaxis.set_visible(False)\n",
    "    ax.yaxis.set_visible(False)\n",
    "\n",
    "    # Read map image\n",
    "    mp_pth = \"E:\\datasets\\iGibson-dataset\\scene_map/\"\n",
    "    mp_pth = f\"{mp_pth}/{scene_id}/{scene_id}.png\"\n",
    "    mp_img = Image.open(mp_pth).convert(\"RGB\")\n",
    "    plt.imshow(mp_img)\n",
    "\n",
    "    # Read trajectory txt file\n",
    "    traj_pth = \"E:\\datasets\\iGibson-dataset\\scene_traj/\"\n",
    "    traj_pth = f\"{traj_pth}/{scene_id}/trajectory.txt\"\n",
    "    traj_fp = open(traj_pth, encoding=\"utf-8\")\n",
    "    traj_data = traj_fp.readlines()\n",
    "    print(f\"Trajectory consists {len(traj_data)} points\")\n",
    "\n",
    "    # Translate trajectory to map coordinate\n",
    "    scene_trans = scene_dict[scene_id]\n",
    "    \n",
    "    traj_x = []\n",
    "    traj_y = []\n",
    "    for traj_p in traj_data:\n",
    "        \n",
    "        traj_p = traj_p.replace(\"\\n\", \"\")\n",
    "        traj_p = traj_p.split(\",\")\n",
    "        traj_x.append(float(traj_p[0]) * scene_trans[2] + scene_trans[0])\n",
    "        traj_y.append(float(traj_p[1]) * scene_trans[2] + scene_trans[1])\n",
    "    \n",
    "    # Visualize trajectory on map    \n",
    "    plt.plot(traj_x, traj_y, color=\"blue\")\n",
    "    \n",
    "    # Save map image\n",
    "    traj_vis_pth = f\"E:\\datasets\\iGibson-dataset\\scene_traj_vis/{scene_id}\"\n",
    "    if not os.path.exists(traj_vis_pth):\n",
    "        os.makedirs(traj_vis_pth)\n",
    "    plt.savefig(f\"{traj_vis_pth}/trajectory.png\", bbox_inches='tight')"
   ]
  },
  {
   "cell_type": "code",
   "execution_count": 13,
   "metadata": {},
   "outputs": [
    {
     "name": "stdout",
     "output_type": "stream",
     "text": [
      "Beechwood_1_int\n",
      "Trajectory consists 4698 points\n",
      "Ihlen_0_int\n",
      "Trajectory consists 3187 points\n",
      "Ihlen_1_int\n",
      "Trajectory consists 5009 points\n",
      "Merom_0_int\n",
      "Trajectory consists 2762 points\n",
      "Merom_1_int\n",
      "Trajectory consists 3222 points\n"
     ]
    }
   ],
   "source": [
    "s_idx_list = [1, 3, 4, 5, 6]\n",
    "\n",
    "for s_idx in s_idx_list:\n",
    "    \n",
    "    print(scene_list[s_idx])\n",
    "    visualize_traj(s_idx)\n",
    "    plt.cla() # clear the matplotlib drawing\n",
    "    \n",
    "plt.close(\"all\") # close all matplotlib drawing"
   ]
  }
 ],
 "metadata": {
  "kernelspec": {
   "display_name": "igibson",
   "language": "python",
   "name": "python3"
  },
  "language_info": {
   "codemirror_mode": {
    "name": "ipython",
    "version": 3
   },
   "file_extension": ".py",
   "mimetype": "text/x-python",
   "name": "python",
   "nbconvert_exporter": "python",
   "pygments_lexer": "ipython3",
   "version": "3.8.18"
  }
 },
 "nbformat": 4,
 "nbformat_minor": 2
}

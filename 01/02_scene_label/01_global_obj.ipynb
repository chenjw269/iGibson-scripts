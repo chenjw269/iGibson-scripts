{
 "cells": [
  {
   "cell_type": "markdown",
   "metadata": {},
   "source": [
    "#### Available scene list"
   ]
  },
  {
   "cell_type": "code",
   "execution_count": 12,
   "metadata": {},
   "outputs": [],
   "source": [
    "import json\n",
    "\n",
    "\n",
    "f = open('../01_scene_list/scene.json', \"r\")\n",
    "scene_json = json.load(f)\n",
    "\n",
    "# Available scene list\n",
    "scene_list = list(scene_json.keys())\n",
    "\n",
    "# Coordinate conversion\n",
    "scene_dict = scene_json\n",
    "\n",
    "f.close()"
   ]
  },
  {
   "cell_type": "markdown",
   "metadata": {},
   "source": [
    "#### Visualize global objects"
   ]
  },
  {
   "cell_type": "code",
   "execution_count": 13,
   "metadata": {},
   "outputs": [],
   "source": [
    "import os\n",
    "\n",
    "from PIL import Image\n",
    "import matplotlib.pyplot as plt\n",
    "from matplotlib.patches import Rectangle\n",
    "\n",
    "from utils import read_obj_json\n",
    "from utils import Vocab, generate_random_colors\n",
    "\n",
    "\n",
    "vocab = Vocab()\n",
    "colors = generate_random_colors(num_colors=512)\n",
    "\n",
    "\n",
    "def visualize_obj(s_idx):\n",
    "    \"\"\"Visualize objects on scene map\n",
    "\n",
    "    Args:\n",
    "        s_idx (int): identifier of scene\n",
    "    \"\"\"\n",
    "    \n",
    "    scene_id = scene_list[s_idx]\n",
    "    fig, ax = plt.subplots()\n",
    "    ax.xaxis.set_visible(False)\n",
    "    ax.yaxis.set_visible(False)\n",
    "\n",
    "    # Read map image\n",
    "    mp_pth = \"E:\\datasets\\iGibson-dataset\\scene_map/\"\n",
    "    mp_pth = f\"{mp_pth}/{scene_id}/{scene_id}.png\"\n",
    "    mp_img = Image.open(mp_pth).convert(\"RGB\")\n",
    "    plt.imshow(mp_img)\n",
    "\n",
    "    # Read object json file\n",
    "    obj_pth = \"E:\\datasets\\iGibson-dataset\\scene_obj/\"\n",
    "    obj_pth = f\"{obj_pth}/{scene_id}/objects.json\"\n",
    "    obj_data = read_obj_json(obj_pth)\n",
    "    print(f\"Trajectory consists {len(obj_data)} objects\")\n",
    "\n",
    "    # Translate objects to map coordinate\n",
    "    scene_trans = scene_dict[scene_id]\n",
    "    \n",
    "    for obj in obj_data:\n",
    "        \n",
    "        obj_label = obj[0]\n",
    "        obj_color = colors[vocab.add(obj_label)]\n",
    "        \n",
    "        obj_pos = [\n",
    "            obj[1] * scene_trans[2] + scene_trans[0],\n",
    "            obj[2] * scene_trans[2] + scene_trans[1]\n",
    "        ]\n",
    "        \n",
    "        obj_sc = [\n",
    "            obj[3] * scene_trans[2],\n",
    "            obj[4] * scene_trans[2]\n",
    "        ]\n",
    "        \n",
    "        rect = Rectangle(\n",
    "            (\n",
    "                obj_pos[0] - (obj_sc[0] / 2),\n",
    "                obj_pos[1] - (obj_sc[1] / 2)\n",
    "            ),\n",
    "            obj_sc[0],\n",
    "            obj_sc[1],\n",
    "            edgecolor='none',\n",
    "            facecolor=obj_color\n",
    "        )\n",
    "        ax.add_patch(rect)\n",
    "        \n",
    "    # Save map image\n",
    "    obj_vis_pth = f\"E:\\datasets\\iGibson-dataset\\scene_obj_vis/{scene_id}\"\n",
    "    if not os.path.exists(obj_vis_pth):\n",
    "        os.makedirs(obj_vis_pth)\n",
    "    plt.savefig(f\"{obj_vis_pth}/objects.png\", bbox_inches='tight')"
   ]
  },
  {
   "cell_type": "code",
   "execution_count": 14,
   "metadata": {},
   "outputs": [
    {
     "name": "stdout",
     "output_type": "stream",
     "text": [
      "Beechwood_1_int\n",
      "Trajectory consists 97 objects\n",
      "Ihlen_0_int\n",
      "Trajectory consists 49 objects\n",
      "Ihlen_1_int\n",
      "Trajectory consists 109 objects\n",
      "Merom_0_int\n",
      "Trajectory consists 68 objects\n",
      "Merom_1_int\n",
      "Trajectory consists 95 objects\n"
     ]
    }
   ],
   "source": [
    "s_idx_list = [1, 3, 4, 5, 6]\n",
    "s_label = \"window\"\n",
    "\n",
    "for s_idx in s_idx_list:\n",
    "    \n",
    "    print(scene_list[s_idx])\n",
    "    visualize_obj(s_idx)\n",
    "    plt.cla()\n",
    "    \n",
    "plt.close(\"all\")"
   ]
  }
 ],
 "metadata": {
  "kernelspec": {
   "display_name": "igibson",
   "language": "python",
   "name": "python3"
  },
  "language_info": {
   "codemirror_mode": {
    "name": "ipython",
    "version": 3
   },
   "file_extension": ".py",
   "mimetype": "text/x-python",
   "name": "python",
   "nbconvert_exporter": "python",
   "pygments_lexer": "ipython3",
   "version": "3.8.18"
  }
 },
 "nbformat": 4,
 "nbformat_minor": 2
}

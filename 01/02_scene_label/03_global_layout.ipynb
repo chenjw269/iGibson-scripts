{
 "cells": [
  {
   "cell_type": "markdown",
   "metadata": {},
   "source": [
    "#### Available scene list"
   ]
  },
  {
   "cell_type": "code",
   "execution_count": 8,
   "metadata": {},
   "outputs": [],
   "source": [
    "import json\n",
    "\n",
    "\n",
    "f = open('../01_scene_list/scene.json', \"r\")\n",
    "scene_json = json.load(f)\n",
    "\n",
    "# Available scene list\n",
    "scene_list = list(scene_json.keys())\n",
    "\n",
    "# Coordinate conversion\n",
    "scene_dict = scene_json\n",
    "\n",
    "f.close()"
   ]
  },
  {
   "cell_type": "markdown",
   "metadata": {},
   "source": [
    "#### Visualize global wall mask"
   ]
  },
  {
   "cell_type": "code",
   "execution_count": 19,
   "metadata": {},
   "outputs": [],
   "source": [
    "import os\n",
    "\n",
    "from PIL import Image\n",
    "import matplotlib.pyplot as plt\n",
    "from matplotlib.patches import Rectangle\n",
    "\n",
    "from utils import read_wall_xml\n",
    "\n",
    "\n",
    "def visualize_layout(s_idx):\n",
    "    \"\"\"Visualize wall mask on scene map\n",
    "\n",
    "    Args:\n",
    "        s_idx (int): identifier of scene\n",
    "    \"\"\"\n",
    "    \n",
    "    scene_id = scene_list[s_idx]\n",
    "    fig, ax = plt.subplots()\n",
    "    ax.xaxis.set_visible(False)\n",
    "    ax.yaxis.set_visible(False)\n",
    "\n",
    "    # Read map image\n",
    "    mp_pth = \"E:\\datasets\\iGibson-dataset\\scene_map/\"\n",
    "    mp_pth = f\"{mp_pth}/{scene_id}/{scene_id}.png\"\n",
    "    mp_img = Image.open(mp_pth).convert(\"RGB\")\n",
    "    plt.imshow(mp_img)\n",
    "\n",
    "    # Read layout xml file\n",
    "    ly_pth = \"E:\\datasets\\iGibson-dataset\\scene_layout/\"\n",
    "    ly_pth = f\"{ly_pth}/{scene_id}/{scene_id}.xml\"\n",
    "    ly_data = read_wall_xml(ly_pth)\n",
    "    print(f\"Trajectory consists {len(ly_data)} walls\")\n",
    "\n",
    "    # Translate wall masks to map coordinate\n",
    "    scene_trans = scene_dict[scene_id]\n",
    "    \n",
    "    for wall in ly_data:\n",
    "        \n",
    "        wall_pos = [\n",
    "            wall[0],\n",
    "            wall[1]\n",
    "        ]\n",
    "        \n",
    "        wall_sc = [\n",
    "            wall[2] - wall[0],\n",
    "            wall[3] - wall[1]\n",
    "        ]\n",
    "        \n",
    "        rect = Rectangle(\n",
    "            (\n",
    "                wall_pos[0],\n",
    "                wall_pos[1]\n",
    "            ),\n",
    "            wall_sc[0],\n",
    "            wall_sc[1],\n",
    "            edgecolor='red',\n",
    "            facecolor=\"red\"\n",
    "        )\n",
    "        ax.add_patch(rect)\n",
    "        \n",
    "    # Save map image\n",
    "    obj_vis_pth = f\"E:\\datasets\\iGibson-dataset\\scene_layout_vis/{scene_id}\"\n",
    "    if not os.path.exists(obj_vis_pth):\n",
    "        os.makedirs(obj_vis_pth)\n",
    "    plt.savefig(f\"{obj_vis_pth}/layout.png\", bbox_inches='tight')"
   ]
  },
  {
   "cell_type": "code",
   "execution_count": 20,
   "metadata": {},
   "outputs": [
    {
     "name": "stdout",
     "output_type": "stream",
     "text": [
      "Beechwood_1_int\n",
      "Trajectory consists 59 walls\n",
      "Ihlen_0_int\n"
     ]
    },
    {
     "ename": "FileNotFoundError",
     "evalue": "[Errno 2] No such file or directory: 'E:\\\\datasets\\\\iGibson-dataset\\\\scene_layout//Ihlen_0_int/Ihlen_0_int.xml'",
     "output_type": "error",
     "traceback": [
      "\u001b[1;31m---------------------------------------------------------------------------\u001b[0m",
      "\u001b[1;31mFileNotFoundError\u001b[0m                         Traceback (most recent call last)",
      "Cell \u001b[1;32mIn[20], line 7\u001b[0m\n\u001b[0;32m      4\u001b[0m \u001b[38;5;28;01mfor\u001b[39;00m s_idx \u001b[38;5;129;01min\u001b[39;00m s_idx_list:\n\u001b[0;32m      6\u001b[0m     \u001b[38;5;28mprint\u001b[39m(scene_list[s_idx])\n\u001b[1;32m----> 7\u001b[0m     \u001b[43mvisualize_layout\u001b[49m\u001b[43m(\u001b[49m\u001b[43ms_idx\u001b[49m\u001b[43m)\u001b[49m\n\u001b[0;32m      8\u001b[0m     plt\u001b[38;5;241m.\u001b[39mcla()\n\u001b[0;32m     10\u001b[0m plt\u001b[38;5;241m.\u001b[39mclose(\u001b[38;5;124m\"\u001b[39m\u001b[38;5;124mall\u001b[39m\u001b[38;5;124m\"\u001b[39m)\n",
      "Cell \u001b[1;32mIn[19], line 31\u001b[0m, in \u001b[0;36mvisualize_layout\u001b[1;34m(s_idx)\u001b[0m\n\u001b[0;32m     29\u001b[0m ly_pth \u001b[38;5;241m=\u001b[39m \u001b[38;5;124m\"\u001b[39m\u001b[38;5;124mE:\u001b[39m\u001b[38;5;124m\\\u001b[39m\u001b[38;5;124mdatasets\u001b[39m\u001b[38;5;124m\\\u001b[39m\u001b[38;5;124miGibson-dataset\u001b[39m\u001b[38;5;124m\\\u001b[39m\u001b[38;5;124mscene_layout/\u001b[39m\u001b[38;5;124m\"\u001b[39m\n\u001b[0;32m     30\u001b[0m ly_pth \u001b[38;5;241m=\u001b[39m \u001b[38;5;124mf\u001b[39m\u001b[38;5;124m\"\u001b[39m\u001b[38;5;132;01m{\u001b[39;00mly_pth\u001b[38;5;132;01m}\u001b[39;00m\u001b[38;5;124m/\u001b[39m\u001b[38;5;132;01m{\u001b[39;00mscene_id\u001b[38;5;132;01m}\u001b[39;00m\u001b[38;5;124m/\u001b[39m\u001b[38;5;132;01m{\u001b[39;00mscene_id\u001b[38;5;132;01m}\u001b[39;00m\u001b[38;5;124m.xml\u001b[39m\u001b[38;5;124m\"\u001b[39m\n\u001b[1;32m---> 31\u001b[0m ly_data \u001b[38;5;241m=\u001b[39m \u001b[43mread_wall_xml\u001b[49m\u001b[43m(\u001b[49m\u001b[43mly_pth\u001b[49m\u001b[43m)\u001b[49m\n\u001b[0;32m     32\u001b[0m \u001b[38;5;28mprint\u001b[39m(\u001b[38;5;124mf\u001b[39m\u001b[38;5;124m\"\u001b[39m\u001b[38;5;124mTrajectory consists \u001b[39m\u001b[38;5;132;01m{\u001b[39;00m\u001b[38;5;28mlen\u001b[39m(ly_data)\u001b[38;5;132;01m}\u001b[39;00m\u001b[38;5;124m walls\u001b[39m\u001b[38;5;124m\"\u001b[39m)\n\u001b[0;32m     34\u001b[0m \u001b[38;5;66;03m# Translate wall masks to map coordinate\u001b[39;00m\n",
      "File \u001b[1;32me:\\Workspace\\Projects\\iGibson\\scripts\\01\\02_scene_label\\utils.py:13\u001b[0m, in \u001b[0;36mread_wall_xml\u001b[1;34m(xml_pth)\u001b[0m\n\u001b[0;32m      4\u001b[0m \u001b[38;5;28;01mdef\u001b[39;00m \u001b[38;5;21mread_wall_xml\u001b[39m(xml_pth):\n\u001b[0;32m      5\u001b[0m \u001b[38;5;250m    \u001b[39m\u001b[38;5;124;03m\"\"\"Read wall mask from xml file\u001b[39;00m\n\u001b[0;32m      6\u001b[0m \n\u001b[0;32m      7\u001b[0m \u001b[38;5;124;03m    Args:\u001b[39;00m\n\u001b[1;32m   (...)\u001b[0m\n\u001b[0;32m     11\u001b[0m \u001b[38;5;124;03m        list(list): wall bounding box\u001b[39;00m\n\u001b[0;32m     12\u001b[0m \u001b[38;5;124;03m    \"\"\"\u001b[39;00m\n\u001b[1;32m---> 13\u001b[0m     dom \u001b[38;5;241m=\u001b[39m \u001b[43mxml\u001b[49m\u001b[38;5;241;43m.\u001b[39;49m\u001b[43mdom\u001b[49m\u001b[38;5;241;43m.\u001b[39;49m\u001b[43mminidom\u001b[49m\u001b[38;5;241;43m.\u001b[39;49m\u001b[43mparse\u001b[49m\u001b[43m(\u001b[49m\u001b[43mxml_pth\u001b[49m\u001b[43m)\u001b[49m\n\u001b[0;32m     14\u001b[0m     root \u001b[38;5;241m=\u001b[39m dom\u001b[38;5;241m.\u001b[39mdocumentElement\n\u001b[0;32m     16\u001b[0m     xml_objects \u001b[38;5;241m=\u001b[39m root\u001b[38;5;241m.\u001b[39mgetElementsByTagName(\u001b[38;5;124m'\u001b[39m\u001b[38;5;124mobject\u001b[39m\u001b[38;5;124m'\u001b[39m)\n",
      "File \u001b[1;32me:\\anaconda3\\envs\\igibson\\lib\\xml\\dom\\minidom.py:1959\u001b[0m, in \u001b[0;36mparse\u001b[1;34m(file, parser, bufsize)\u001b[0m\n\u001b[0;32m   1957\u001b[0m \u001b[38;5;28;01mif\u001b[39;00m parser \u001b[38;5;129;01mis\u001b[39;00m \u001b[38;5;28;01mNone\u001b[39;00m \u001b[38;5;129;01mand\u001b[39;00m \u001b[38;5;129;01mnot\u001b[39;00m bufsize:\n\u001b[0;32m   1958\u001b[0m     \u001b[38;5;28;01mfrom\u001b[39;00m \u001b[38;5;21;01mxml\u001b[39;00m\u001b[38;5;21;01m.\u001b[39;00m\u001b[38;5;21;01mdom\u001b[39;00m \u001b[38;5;28;01mimport\u001b[39;00m expatbuilder\n\u001b[1;32m-> 1959\u001b[0m     \u001b[38;5;28;01mreturn\u001b[39;00m \u001b[43mexpatbuilder\u001b[49m\u001b[38;5;241;43m.\u001b[39;49m\u001b[43mparse\u001b[49m\u001b[43m(\u001b[49m\u001b[43mfile\u001b[49m\u001b[43m)\u001b[49m\n\u001b[0;32m   1960\u001b[0m \u001b[38;5;28;01melse\u001b[39;00m:\n\u001b[0;32m   1961\u001b[0m     \u001b[38;5;28;01mfrom\u001b[39;00m \u001b[38;5;21;01mxml\u001b[39;00m\u001b[38;5;21;01m.\u001b[39;00m\u001b[38;5;21;01mdom\u001b[39;00m \u001b[38;5;28;01mimport\u001b[39;00m pulldom\n",
      "File \u001b[1;32me:\\anaconda3\\envs\\igibson\\lib\\xml\\dom\\expatbuilder.py:910\u001b[0m, in \u001b[0;36mparse\u001b[1;34m(file, namespaces)\u001b[0m\n\u001b[0;32m    907\u001b[0m     builder \u001b[38;5;241m=\u001b[39m ExpatBuilder()\n\u001b[0;32m    909\u001b[0m \u001b[38;5;28;01mif\u001b[39;00m \u001b[38;5;28misinstance\u001b[39m(file, \u001b[38;5;28mstr\u001b[39m):\n\u001b[1;32m--> 910\u001b[0m     \u001b[38;5;28;01mwith\u001b[39;00m \u001b[38;5;28;43mopen\u001b[39;49m\u001b[43m(\u001b[49m\u001b[43mfile\u001b[49m\u001b[43m,\u001b[49m\u001b[43m \u001b[49m\u001b[38;5;124;43m'\u001b[39;49m\u001b[38;5;124;43mrb\u001b[39;49m\u001b[38;5;124;43m'\u001b[39;49m\u001b[43m)\u001b[49m \u001b[38;5;28;01mas\u001b[39;00m fp:\n\u001b[0;32m    911\u001b[0m         result \u001b[38;5;241m=\u001b[39m builder\u001b[38;5;241m.\u001b[39mparseFile(fp)\n\u001b[0;32m    912\u001b[0m \u001b[38;5;28;01melse\u001b[39;00m:\n",
      "\u001b[1;31mFileNotFoundError\u001b[0m: [Errno 2] No such file or directory: 'E:\\\\datasets\\\\iGibson-dataset\\\\scene_layout//Ihlen_0_int/Ihlen_0_int.xml'"
     ]
    },
    {
     "data": {
      "image/png": "[encoded data removed]",
      "text/plain": [
       "<Figure size 640x480 with 1 Axes>"
      ]
     },
     "metadata": {},
     "output_type": "display_data"
    },
    {
     "data": {
      "image/png": "[encoded data removed]",
      "text/plain": [
       "<Figure size 640x480 with 1 Axes>"
      ]
     },
     "metadata": {},
     "output_type": "display_data"
    }
   ],
   "source": [
    "s_idx_list = [1, 3, 4, 5, 6]\n",
    "s_label = \"window\"\n",
    "\n",
    "for s_idx in s_idx_list:\n",
    "    \n",
    "    print(scene_list[s_idx])\n",
    "    visualize_layout(s_idx)\n",
    "    plt.cla()\n",
    "    \n",
    "plt.close(\"all\")"
   ]
  }
 ],
 "metadata": {
  "kernelspec": {
   "display_name": "igibson",
   "language": "python",
   "name": "python3"
  },
  "language_info": {
   "codemirror_mode": {
    "name": "ipython",
    "version": 3
   },
   "file_extension": ".py",
   "mimetype": "text/x-python",
   "name": "python",
   "nbconvert_exporter": "python",
   "pygments_lexer": "ipython3",
   "version": "3.8.18"
  }
 },
 "nbformat": 4,
 "nbformat_minor": 2
}

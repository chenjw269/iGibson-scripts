{
 "cells": [
  {
   "cell_type": "markdown",
   "metadata": {},
   "source": [
    "#### Available scene list"
   ]
  },
  {
   "cell_type": "code",
   "execution_count": 1,
   "metadata": {},
   "outputs": [],
   "source": [
    "scene_dict = {\n",
    "    \"Beechwood_0_int\": (1200, 1200, 100),\n",
    "    \"Beechwood_1_int\": (1200, 1200, 100),\n",
    "    # \"Benevolence_0_int\": (900, 900, 100), \n",
    "    # \"Benevolence_1_int\": (1000, 1000, 100), \n",
    "    \"Benevolence_2_int\": (900, 900, 100),\n",
    "    \"Ihlen_0_int\": (1200, 1200, 100), \n",
    "    \"Ihlen_1_int\": (1100, 1100, 100),\n",
    "    \"Merom_0_int\": (1100, 1100, 100), \n",
    "    \"Merom_1_int\": (1100, 1100, 100),\n",
    "    \"Pomaria_0_int\": (1400, 1400, 100), \n",
    "    \"Pomaria_1_int\": (1400, 1400, 100), \n",
    "    \"Pomaria_2_int\": (800, 800, 100),\n",
    "    \"Rs_int\": (500, 500, 100),\n",
    "    \"Wainscott_0_int\": (1500, 1500, 100), \n",
    "    \"Wainscott_1_int\": (1400, 1400, 100)\n",
    "}"
   ]
  },
  {
   "cell_type": "markdown",
   "metadata": {},
   "source": [
    "#### Write to json file"
   ]
  },
  {
   "cell_type": "code",
   "execution_count": 2,
   "metadata": {},
   "outputs": [],
   "source": [
    "import json\n",
    "\n",
    "\n",
    "with open('scene.json', \"w\") as f:\n",
    "    json.dump(scene_dict, f, indent=4)"
   ]
  },
  {
   "cell_type": "markdown",
   "metadata": {},
   "source": [
    "#### Read from json file"
   ]
  },
  {
   "cell_type": "code",
   "execution_count": 3,
   "metadata": {},
   "outputs": [
    {
     "name": "stdout",
     "output_type": "stream",
     "text": [
      "['Beechwood_0_int', 'Beechwood_1_int', 'Benevolence_2_int', 'Ihlen_0_int', 'Ihlen_1_int', 'Merom_0_int', 'Merom_1_int', 'Pomaria_0_int', 'Pomaria_1_int', 'Pomaria_2_int', 'Rs_int', 'Wainscott_0_int', 'Wainscott_1_int']\n",
      "{'Beechwood_0_int': [1200, 1200, 100], 'Beechwood_1_int': [1200, 1200, 100], 'Benevolence_2_int': [900, 900, 100], 'Ihlen_0_int': [1200, 1200, 100], 'Ihlen_1_int': [1100, 1100, 100], 'Merom_0_int': [1100, 1100, 100], 'Merom_1_int': [1100, 1100, 100], 'Pomaria_0_int': [1400, 1400, 100], 'Pomaria_1_int': [1400, 1400, 100], 'Pomaria_2_int': [800, 800, 100], 'Rs_int': [500, 500, 100], 'Wainscott_0_int': [1500, 1500, 100], 'Wainscott_1_int': [1400, 1400, 100]}\n"
     ]
    }
   ],
   "source": [
    "f = open('scene.json', \"r\")\n",
    "scene_json = json.load(f)\n",
    "\n",
    "# Available scene list\n",
    "scene_list = list(scene_json.keys())\n",
    "print(scene_list)\n",
    "\n",
    "# Coordinate conversion\n",
    "scene_dict = scene_json\n",
    "print(scene_dict)\n",
    "\n",
    "f.close()"
   ]
  }
 ],
 "metadata": {
  "kernelspec": {
   "display_name": "igibson",
   "language": "python",
   "name": "python3"
  },
  "language_info": {
   "codemirror_mode": {
    "name": "ipython",
    "version": 3
   },
   "file_extension": ".py",
   "mimetype": "text/x-python",
   "name": "python",
   "nbconvert_exporter": "python",
   "pygments_lexer": "ipython3",
   "version": "3.8.18"
  }
 },
 "nbformat": 4,
 "nbformat_minor": 2
}

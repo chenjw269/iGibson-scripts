{
 "cells": [
  {
   "cell_type": "markdown",
   "metadata": {},
   "source": [
    "#### Available scene list"
   ]
  },
  {
   "cell_type": "code",
   "execution_count": null,
   "metadata": {},
   "outputs": [],
   "source": [
    "import json\n",
    "\n",
    "\n",
    "f = open('scene.json', \"r\")\n",
    "scene_json = json.load(f)\n",
    "\n",
    "# Available scene list\n",
    "scene_list = list(scene_json.keys())\n",
    "\n",
    "# Coordinate conversion\n",
    "scene_dict = scene_json\n",
    "\n",
    "f.close()"
   ]
  },
  {
   "cell_type": "markdown",
   "metadata": {},
   "source": [
    "#### Coordinate conversion"
   ]
  },
  {
   "cell_type": "code",
   "execution_count": null,
   "metadata": {},
   "outputs": [],
   "source": [
    "def position_to_pixel(position, scene_trans):\n",
    "    \"\"\"Convert axis from real position to image pixel\n",
    "\n",
    "    Args:\n",
    "        position (list(float, float)): real position\n",
    "        scene_trans (list(int, int, int)): conversion parameters\n",
    "\n",
    "    Returns:\n",
    "        list(int, int): image pixel\n",
    "    \"\"\"\n",
    "    pixel = [\n",
    "        int(position[0] * scene_trans[2] + scene_trans[0]),\n",
    "        int(position[1] * scene_trans[2] + scene_trans[1])\n",
    "    ]\n",
    "    \n",
    "    \n",
    "    return pixel\n",
    "\n",
    "\n",
    "def pixel_to_position(pixel, scene_trans):\n",
    "    \"\"\"Convert axis from image pixel to real position\n",
    "\n",
    "    Args:\n",
    "        pixel (list(int, int)): image pixel\n",
    "        scene_trans (list(int, int, int)): conversion parameters\n",
    "\n",
    "    Returns:\n",
    "        list(float, float): real position\n",
    "    \"\"\"\n",
    "    position = [\n",
    "        (pixel[0] - scene_trans[0]) / scene_trans[2],\n",
    "        (pixel[1] - scene_trans[1]) / scene_trans[2]\n",
    "    ]\n",
    "    \n",
    "    \n",
    "    return position"
   ]
  }
 ],
 "metadata": {
  "language_info": {
   "name": "python"
  }
 },
 "nbformat": 4,
 "nbformat_minor": 2
}

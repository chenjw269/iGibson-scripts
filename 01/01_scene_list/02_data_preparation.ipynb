{
 "cells": [
  {
   "cell_type": "markdown",
   "metadata": {},
   "source": [
    "#### Available scene list"
   ]
  },
  {
   "cell_type": "code",
   "execution_count": 1,
   "metadata": {},
   "outputs": [],
   "source": [
    "import json\n",
    "\n",
    "\n",
    "f = open('scene.json', \"r\")\n",
    "scene_json = json.load(f)\n",
    "\n",
    "# Available scene list\n",
    "scene_list = list(scene_json.keys())\n",
    "\n",
    "# Coordinate conversion\n",
    "scene_dict = scene_json\n",
    "\n",
    "f.close()"
   ]
  },
  {
   "cell_type": "markdown",
   "metadata": {},
   "source": [
    "#### Data preparation"
   ]
  },
  {
   "cell_type": "code",
   "execution_count": 11,
   "metadata": {},
   "outputs": [],
   "source": [
    "import os\n",
    "import shutil\n",
    "\n",
    "\n",
    "def data_preparation(src_pth, tgt_pth):\n",
    "    \"\"\"Copy scene map from igibson dataset directory\n",
    "\n",
    "    Args:\n",
    "        src_pth (str): source directory\n",
    "        tgt_pth (str): target directory\n",
    "    \"\"\"\n",
    "    for scene_id in scene_list:\n",
    "        \n",
    "        # Copy map image\n",
    "        map_pth = f\"{src_pth}/{scene_id}/layout/floor_no_obj_0.png\"\n",
    "        \n",
    "        cp_map_pth = f\"{tgt_pth}/scene_map/{scene_id}/\"\n",
    "        if not os.path.exists(cp_map_pth):\n",
    "            os.makedirs(cp_map_pth)\n",
    "        \n",
    "        shutil.copy(map_pth, f\"{cp_map_pth}/{scene_id}.png\")\n",
    "        \n",
    "        # Copy trajectory file\n",
    "        traj_pth = f\"{src_pth}/{scene_id}/misc/tour_cam_trajectory.txt\"\n",
    "        \n",
    "        cp_traj_pth = f\"{tgt_pth}/scene_traj/{scene_id}/\"\n",
    "        if not os.path.exists(cp_traj_pth):\n",
    "            os.makedirs(cp_traj_pth)\n",
    "            \n",
    "        shutil.copy(traj_pth, f\"{cp_traj_pth}/trajectory.txt\")\n",
    "        \n",
    "        # Copy object json\n",
    "        obj_pth = f\"{src_pth}/{scene_id}/misc/all_objs.json\"\n",
    "        \n",
    "        cp_obj_pth = f\"{tgt_pth}/scene_obj/{scene_id}/\"\n",
    "        if not os.path.exists(cp_obj_pth):\n",
    "            os.makedirs(cp_obj_pth)\n",
    "            \n",
    "        shutil.copy(obj_pth, f\"{cp_obj_pth}/objects.json\")\n",
    "        "
   ]
  },
  {
   "cell_type": "code",
   "execution_count": 10,
   "metadata": {},
   "outputs": [],
   "source": [
    "src_pth = \"E:\\Workspace\\Projects\\iGibson\\igibson\\data\\ig_dataset/scenes\"\n",
    "tgt_pth = \"E:\\datasets\\iGibson-dataset/\"\n",
    "\n",
    "data_preparation(src_pth, tgt_pth)"
   ]
  }
 ],
 "metadata": {
  "kernelspec": {
   "display_name": "igibson",
   "language": "python",
   "name": "python3"
  },
  "language_info": {
   "codemirror_mode": {
    "name": "ipython",
    "version": 3
   },
   "file_extension": ".py",
   "mimetype": "text/x-python",
   "name": "python",
   "nbconvert_exporter": "python",
   "pygments_lexer": "ipython3",
   "version": "3.8.18"
  }
 },
 "nbformat": 4,
 "nbformat_minor": 2
}

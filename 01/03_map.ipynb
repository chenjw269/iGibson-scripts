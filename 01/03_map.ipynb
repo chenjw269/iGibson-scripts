{
 "cells": [
  {
   "cell_type": "markdown",
   "metadata": {},
   "source": [
    "#### Available scene list"
   ]
  },
  {
   "cell_type": "code",
   "execution_count": 1,
   "metadata": {},
   "outputs": [],
   "source": [
    "import json\n",
    "\n",
    "    \n",
    "f = open('../scene.json', \"r\")\n",
    "scene_json = json.load(f)\n",
    "\n",
    "scene_list = list(scene_json.keys())\n",
    "scene_dict = scene_json"
   ]
  },
  {
   "cell_type": "markdown",
   "metadata": {},
   "source": [
    "#### Object Map"
   ]
  },
  {
   "cell_type": "markdown",
   "metadata": {},
   "source": [
    "#### Window Map (any specific type)"
   ]
  },
  {
   "cell_type": "markdown",
   "metadata": {},
   "source": [
    "#### Wall Map"
   ]
  },
  {
   "cell_type": "code",
   "execution_count": 15,
   "metadata": {},
   "outputs": [],
   "source": [
    "from PIL import Image\n",
    "import matplotlib.pyplot as plt\n",
    "\n",
    "import torch\n",
    "\n",
    "\n",
    "def read_wall_map(s_idx):\n",
    "    \n",
    "    scene_id = scene_list[s_idx]\n",
    "    \n",
    "    ds_pth = \"E:/Workspace/Datasets/iGibson-dataset/iGibson-map/\"\n",
    "    wall_map_pth = f\"{ds_pth}/{scene_id}/wall.txt\"\n",
    "    wall_map_fp = open(wall_map_pth, encoding=\"utf-8\")\n",
    "    \n",
    "    wall_map_ts = torch.Tensor()\n",
    "    \n",
    "    for wall_map_item in wall_map_fp:\n",
    "        wall_map_item = wall_map_item.replace(\"\\n\", \"\").split(\",\")\n",
    "        wall_map_item = [\n",
    "            float(wall_map_item[0]),\n",
    "            float(wall_map_item[1]),\n",
    "            float(wall_map_item[2]),\n",
    "            float(wall_map_item[3])\n",
    "        ]\n",
    "        wall_map_item = torch.Tensor(wall_map_item).unsqueeze(0)\n",
    "        \n",
    "        wall_map_ts = torch.concat((wall_map_ts, wall_map_item))\n",
    "        \n",
    "    wall_map_fp.close()\n",
    "        \n",
    "    \n",
    "    return wall_map_ts\n",
    "    \n",
    "\n",
    "def validate_wall_map(s_idx):\n",
    "    \n",
    "    scene_id = scene_list[s_idx]\n",
    "    \n",
    "    fig = plt.figure(figsize=(40, 20))\n",
    "    \n",
    "    # Visualize ground truth wall map\n",
    "    axes = fig.add_subplot(1, 2, 1)\n",
    "    \n",
    "    ds_pth = \"E:/Workspace/Datasets/iGibson-dataset/iGibson-map/\"\n",
    "    map_img_pth = f\"{ds_pth}/{scene_id}/wall.jpg\"\n",
    "    map_img = Image.open(map_img_pth).convert(\"RGB\")\n",
    "    plt.imshow(map_img)\n",
    "    \n",
    "    # Visualize wall map data\n",
    "    axes = fig.add_subplot(1, 2, 2)\n",
    "    \n",
    "    ds_pth = \"E:/Workspace/Datasets/iGibson-dataset/iGibson-map/\"\n",
    "    img_pth = f\"{ds_pth}/{scene_id}/{scene_id}.png\"\n",
    "    img = Image.open(img_pth).convert(\"RGB\")\n",
    "    plt.imshow(img)\n",
    "    \n",
    "    wall_map_pth = f\"{ds_pth}/{scene_id}/wall.txt\"\n",
    "    wall_map_fp = open(wall_map_pth, encoding=\"utf-8\")\n",
    "    wall_map_data = wall_map_fp.readlines()\n",
    "    \n",
    "    scene_trans = scene_dict[scene_id]\n",
    "    \n",
    "    for wall_map_item in wall_map_data:\n",
    "        \n",
    "        wall_map_item = wall_map_item.replace(\"\\n\", \"\").split(\",\")\n",
    "        \n",
    "        x = float(wall_map_item[0]) * scene_trans[2] + scene_trans[0]\n",
    "        y = float(wall_map_item[1]) * scene_trans[2] + scene_trans[1]\n",
    "        width = float(wall_map_item[2]) * scene_trans[2]\n",
    "        height = float(wall_map_item[3]) * scene_trans[2]\n",
    "        \n",
    "        wall_mask = plt.Rectangle(\n",
    "            xy = (x - width / 2, y - height / 2),\n",
    "            width = width,\n",
    "            height = height,\n",
    "            edgecolor = \"gold\",\n",
    "            facecolor = \"gold\"\n",
    "        )\n",
    "        axes.add_patch(wall_mask)\n",
    "        \n",
    "    wall_map_fp.close()\n",
    "    \n",
    "    ds_pth = \"E:/Workspace/Datasets/iGibson-dataset/iGibson-map/\"\n",
    "    plt.savefig(f\"{ds_pth}/{scene_id}/val_wall.jpg\")"
   ]
  },
  {
   "cell_type": "code",
   "execution_count": 16,
   "metadata": {},
   "outputs": [
    {
     "name": "stdout",
     "output_type": "stream",
     "text": [
      "torch.Size([53, 4])\n",
      "torch.Size([15, 4])\n",
      "torch.Size([40, 4])\n",
      "torch.Size([21, 4])\n",
      "torch.Size([40, 4])\n"
     ]
    }
   ],
   "source": [
    "s_idx_list = [1, 3, 4, 5, 6]\n",
    "\n",
    "for s_idx in s_idx_list:\n",
    "    \n",
    "    # print(scene_list[s_idx])\n",
    "    # validate_wall_map(s_idx)\n",
    "    # plt.cla() # clear the matplotlib drawing\n",
    "    \n",
    "    wall_map_ts = read_wall_map(s_idx)\n",
    "    print(wall_map_ts.shape)\n",
    "    \n",
    "plt.close(\"all\") # close all matplotlib drawing"
   ]
  }
 ],
 "metadata": {
  "kernelspec": {
   "display_name": "igibson",
   "language": "python",
   "name": "python3"
  },
  "language_info": {
   "codemirror_mode": {
    "name": "ipython",
    "version": 3
   },
   "file_extension": ".py",
   "mimetype": "text/x-python",
   "name": "python",
   "nbconvert_exporter": "python",
   "pygments_lexer": "ipython3",
   "version": "3.8.18"
  }
 },
 "nbformat": 4,
 "nbformat_minor": 2
}

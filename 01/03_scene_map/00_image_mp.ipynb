{
 "cells": [
  {
   "cell_type": "markdown",
   "metadata": {},
   "source": [
    "#### Available scene list"
   ]
  },
  {
   "cell_type": "code",
   "execution_count": 77,
   "metadata": {},
   "outputs": [],
   "source": [
    "import json\n",
    "\n",
    "\n",
    "f = open('../01_scene_list/scene.json', \"r\")\n",
    "scene_json = json.load(f)\n",
    "\n",
    "# Available scene list\n",
    "scene_list = list(scene_json.keys())\n",
    "\n",
    "# Coordinate conversion\n",
    "scene_dict = scene_json\n",
    "\n",
    "f.close()"
   ]
  },
  {
   "cell_type": "markdown",
   "metadata": {},
   "source": [
    "#### Process image map"
   ]
  },
  {
   "cell_type": "code",
   "execution_count": 78,
   "metadata": {},
   "outputs": [],
   "source": [
    "import os\n",
    "\n",
    "import numpy as np\n",
    "from PIL import Image\n",
    "\n",
    "\n",
    "def add_white_border(s_idx, border):\n",
    "    \n",
    "    scene_id = scene_list[s_idx]\n",
    "    \n",
    "    img_pth = \"E:\\datasets\\iGibson-dataset\\scene_map/\"\n",
    "    img_pth = f\"{img_pth}/{scene_id}/{scene_id}.png\"\n",
    "    \n",
    "    tgt_pth = \"E:\\datasets\\iGibson-dataset\\scene_map_processed/\"\n",
    "    if not os.path.exists(f\"{tgt_pth}/{scene_id}\"):\n",
    "        os.makedirs(f\"{tgt_pth}/{scene_id}\")\n",
    "    \n",
    "    origin_img = Image.open(img_pth).convert(\"RGB\")\n",
    "    \n",
    "    new_width = origin_img.width + 2 * border\n",
    "    new_height = origin_img.height + 2 * border\n",
    "    \n",
    "    new_img = Image.new('RGB', (new_width, new_height), \"white\")\n",
    "    paste_loc = (border, border)\n",
    "    new_img.paste(origin_img, paste_loc)\n",
    "    \n",
    "    new_img.save(f\"{tgt_pth}/{scene_id}/{scene_id}.png\")\n",
    "\n",
    "\n",
    "def process_img_mp(s_idx):\n",
    "    \n",
    "    scene_id = scene_list[s_idx]\n",
    "    \n",
    "    mp_pth = \"E:\\datasets\\iGibson-dataset\\scene_map_processed/\"\n",
    "    mp_pth = f\"{mp_pth}/{scene_id}/{scene_id}.png\"\n",
    "    \n",
    "    tgt_pth = \"E:\\datasets\\iGibson-dataset\\scene_map_processed/\"\n",
    "    if not os.path.exists(f\"{tgt_pth}/{scene_id}\"):\n",
    "        os.makedirs(f\"{tgt_pth}/{scene_id}\")\n",
    "    \n",
    "    scene_trans = scene_dict[scene_id]\n",
    "    \n",
    "    mp_data = np.array(Image.open(mp_pth).convert(\"RGB\"))\n",
    "    print(f\"Map shape {mp_data.shape}\")\n",
    "    \n",
    "    print(f\"Map origin ({scene_trans[0]}, {scene_trans[1]})\")\n",
    "    origin_x = scene_trans[0] + 200\n",
    "    origin_y = scene_trans[1] + 200\n",
    "    # print(f\"New map origin ({origin_x}, {origin_y})\")\n",
    "    \n",
    "    up_bias = origin_x - 900\n",
    "    down_bias = origin_x + 1200\n",
    "    left_bias = origin_y - 1300\n",
    "    right_bias = origin_y + 800\n",
    "    process_mp_data = mp_data[up_bias : down_bias, left_bias : right_bias]\n",
    "    print(f\"Map processed {process_mp_data.shape}\")\n",
    "    process_mp_data = Image.fromarray(process_mp_data)\n",
    "    \n",
    "    process_mp_data.save(f\"{tgt_pth}/{scene_id}/{scene_id}.png\")"
   ]
  },
  {
   "cell_type": "code",
   "execution_count": 79,
   "metadata": {},
   "outputs": [
    {
     "name": "stdout",
     "output_type": "stream",
     "text": [
      "Beechwood_1_int\n",
      "Map shape (2800, 2800, 3)\n",
      "Map origin (1200, 1200)\n",
      "Map processed (2100, 2100, 3)\n",
      "Ihlen_0_int\n",
      "Map shape (2800, 2800, 3)\n",
      "Map origin (1200, 1200)\n",
      "Map processed (2100, 2100, 3)\n",
      "Ihlen_1_int\n",
      "Map shape (2600, 2600, 3)\n",
      "Map origin (1100, 1100)\n",
      "Map processed (2100, 2100, 3)\n",
      "Merom_0_int\n",
      "Map shape (2600, 2600, 3)\n",
      "Map origin (1100, 1100)\n",
      "Map processed (2100, 2100, 3)\n",
      "Merom_1_int\n",
      "Map shape (2600, 2600, 3)\n",
      "Map origin (1100, 1100)\n",
      "Map processed (2100, 2100, 3)\n"
     ]
    }
   ],
   "source": [
    "s_idx_list = [1, 3, 4, 5, 6]\n",
    "\n",
    "for s_idx in s_idx_list:\n",
    "    \n",
    "    print(scene_list[s_idx])\n",
    "    add_white_border(s_idx, 200)\n",
    "    process_img_mp(s_idx)\n",
    "    "
   ]
  }
 ],
 "metadata": {
  "kernelspec": {
   "display_name": "igibson",
   "language": "python",
   "name": "python3"
  },
  "language_info": {
   "codemirror_mode": {
    "name": "ipython",
    "version": 3
   },
   "file_extension": ".py",
   "mimetype": "text/x-python",
   "name": "python",
   "nbconvert_exporter": "python",
   "pygments_lexer": "ipython3",
   "version": "3.8.18"
  }
 },
 "nbformat": 4,
 "nbformat_minor": 2
}

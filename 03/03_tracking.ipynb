{
 "cells": [
  {
   "cell_type": "markdown",
   "metadata": {},
   "source": [
    "#### Tracking dataset"
   ]
  },
  {
   "cell_type": "code",
   "execution_count": null,
   "metadata": {},
   "outputs": [],
   "source": [
    "import pandas as pd\n",
    "\n",
    "from torch.utils.data import Dataset\n",
    "from utils import *\n",
    "\n",
    "\n",
    "class IgibsonPanorama(Dataset):\n",
    "    \n",
    "    def __init__(self, csv_pth):\n",
    "        super(IgibsonPanorama, self).__init__()\n",
    "        \n",
    "        self.data = pd.read_csv(csv_pth)\n",
    "        \n",
    "    def __len__(self):\n",
    "        \n",
    "        return len(self.data)\n",
    "    \n",
    "    def __getitem__(self, index):\n",
    "        \n",
    "        # Read ground truth\n",
    "        gt_pth = self.data[\"gt\"][index]\n",
    "        gt = read_gt(gt_pth)\n",
    "        gt = gt[0, ...]\n",
    "        \n",
    "        # Read observation\n",
    "        # obs_pth = self.data[\"rgb\"][index]\n",
    "        # obs = read_obs(obs_pth)\n",
    "        \n",
    "        obs_pth = self.data[\"d\"][index]\n",
    "        obs = read_depth(obs_pth)\n",
    "        \n",
    "        # Read map\n",
    "        mp_pth = self.data[\"mp\"][index]\n",
    "        mp, mp_mask = read_mp(mp_pth)\n",
    "        \n",
    "        # Project map to ego-coordinate\n",
    "        local_mp = projection(gt, mp)\n",
    "        \n",
    "        # Generate random deviation\n",
    "        local_mp, gt = deviation(local_mp)\n",
    "        \n",
    "        \n",
    "        return (gt, obs, mp, mp_mask)"
   ]
  }
 ],
 "metadata": {
  "kernelspec": {
   "display_name": "dl",
   "language": "python",
   "name": "python3"
  },
  "language_info": {
   "name": "python",
   "version": "3.9.18"
  }
 },
 "nbformat": 4,
 "nbformat_minor": 2
}

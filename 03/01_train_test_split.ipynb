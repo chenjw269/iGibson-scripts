{
 "cells": [
  {
   "cell_type": "code",
   "execution_count": null,
   "metadata": {},
   "outputs": [],
   "source": [
    "train_dict = {\n",
    "    \"train_list\" : [\n",
    "                        # \"Beechwood_1_int/0.csv\", # poor\n",
    "                        \"Beechwood_1_int/1.csv\", # normal\n",
    "                        \"Beechwood_1_int/2.csv\", # normal\n",
    "                        \"Beechwood_1_int/3.csv\", # good\n",
    "                    ],\n",
    "    \"test_list\" : [\n",
    "                        \"Beechwood_1_int/4.csv\", # normal\n",
    "                    ]\n",
    "\n",
    "}"
   ]
  },
  {
   "cell_type": "code",
   "execution_count": 1,
   "metadata": {},
   "outputs": [],
   "source": [
    "train_dict = {\n",
    "    \"train_list\" : [\n",
    "                        # \"Beechwood_1_int/0.csv\", # poor\n",
    "                        \"Beechwood_1_int/1.csv\", # normal\n",
    "                        \"Beechwood_1_int/2.csv\", # normal\n",
    "                        \"Beechwood_1_int/3.csv\", # good\n",
    "                        \"Ihlen_0_int/0.csv\", # good\n",
    "                        \"Ihlen_0_int/1.csv\", # good\n",
    "                        \"Ihlen_1_int/4.csv\", # good\n",
    "                        \"Ihlen_1_int/5.csv\", # good\n",
    "                        \"Ihlen_1_int/0.csv\", # normal\n",
    "                        # \"Ihlen_1_int/1.csv\", # poor\n",
    "                        \"Ihlen_1_int/2.csv\", # good\n",
    "                        # \"Ihlen_1_int/3.csv\", # poor\n",
    "                        \"Merom_0_int/0.csv\", # good\n",
    "                        \"Merom_1_int/0.csv\", # normal\n",
    "                        \"Merom_1_int/3.csv\", # good\n",
    "                        # \"Merom_1_int/4.csv\", # poor\n",
    "                        # \"Merom_1_int/5.csv\", # poor\n",
    "                    ],\n",
    "    \"test_list\" : [\n",
    "                        \"Beechwood_1_int/4.csv\", # normal\n",
    "                        \"Merom_0_int/1.csv\", # good\n",
    "                        # \"Merom_0_int/2.csv\", # poor\n",
    "                        \"Merom_1_int/1.csv\", # normal\n",
    "                        \"Merom_1_int/2.csv\", # good\n",
    "                    ]\n",
    "\n",
    "}"
   ]
  },
  {
   "cell_type": "code",
   "execution_count": null,
   "metadata": {},
   "outputs": [],
   "source": [
    "import json\n",
    "\n",
    "\n",
    "with open('../train.json', \"w\") as f:\n",
    "    json.dump(train_dict, f, indent=4)"
   ]
  }
 ],
 "metadata": {
  "kernelspec": {
   "display_name": "igibson",
   "language": "python",
   "name": "python3"
  },
  "language_info": {
   "codemirror_mode": {
    "name": "ipython",
    "version": 3
   },
   "file_extension": ".py",
   "mimetype": "text/x-python",
   "name": "python",
   "nbconvert_exporter": "python",
   "pygments_lexer": "ipython3",
   "version": "3.8.18"
  }
 },
 "nbformat": 4,
 "nbformat_minor": 2
}

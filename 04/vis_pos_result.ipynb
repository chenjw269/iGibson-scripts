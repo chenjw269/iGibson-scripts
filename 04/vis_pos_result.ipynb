{
 "cells": [
  {
   "cell_type": "markdown",
   "metadata": {},
   "source": [
    "#### Available scene list"
   ]
  },
  {
   "cell_type": "code",
   "execution_count": 1,
   "metadata": {},
   "outputs": [],
   "source": [
    "import json\n",
    "\n",
    "    \n",
    "f = open('scene.json', \"r\")\n",
    "scene_json = json.load(f)\n",
    "\n",
    "scene_list = list(scene_json.keys())\n",
    "scene_dict = scene_json"
   ]
  },
  {
   "cell_type": "markdown",
   "metadata": {},
   "source": [
    "#### Visualize Estimation Result"
   ]
  },
  {
   "cell_type": "code",
   "execution_count": 14,
   "metadata": {},
   "outputs": [],
   "source": [
    "from PIL import Image\n",
    "import matplotlib.pyplot as plt\n",
    "\n",
    "\n",
    "def visualize_pos_result(result_pth):\n",
    "\n",
    "    ds_pth = \"E:\\Workspace\\Datasets\\iGibson-dataset\\iGibson-map/\"\n",
    "\n",
    "    result_fp = open(result_pth, encoding=\"utf-8\")\n",
    "    result = result_fp.readlines()\n",
    "    result_l = int(len(result) / 3)\n",
    "    \n",
    "    for idx in range(result_l):\n",
    "        \n",
    "        idx = 6\n",
    "        \n",
    "        result_item = result[idx * 3 : (idx + 1) * 3]\n",
    "        \n",
    "        result_scene = result_item[0].replace(\"\\n\", \"\").split(\",\")[1]\n",
    "        result_scene = result_scene.split(\"/\")\n",
    "        result_scene_id, result_r_idx = result_scene[-3], result_scene[-2]\n",
    "        \n",
    "        result_mp_pth = f\"{ds_pth}/{result_scene_id}/{result_scene_id}.png\"\n",
    "        result_mp = Image.open(result_mp_pth).convert(\"RGB\")\n",
    "        plt.imshow(result_mp)\n",
    "        \n",
    "        result_est = result_item[1].replace(\"\\n\", \"\").split(\",\")\n",
    "        result_est = (float(result_est[1]), float(result_est[2]))\n",
    "        result_gt = result_item[2].replace(\"\\n\", \"\").split(\",\")\n",
    "        result_gt = (float(result_gt[1]), float(result_gt[2]))\n",
    "        \n",
    "        scene_trans = scene_dict[result_scene_id]\n",
    "        result_est = (\n",
    "            result_est[0] * scene_trans[2] + scene_trans[0],\n",
    "            result_est[1] * scene_trans[2] + scene_trans[1]\n",
    "        )\n",
    "        result_gt = (\n",
    "            result_gt[0] * scene_trans[2] + scene_trans[0],\n",
    "            result_gt[1] * scene_trans[2] + scene_trans[1]\n",
    "        )\n",
    "        \n",
    "        plt.scatter(result_est[0], result_est[1], color=\"red\")\n",
    "        plt.scatter(result_gt[0], result_gt[1], color=\"blue\")\n",
    "        \n",
    "        break\n",
    "        \n",
    "    plt.show()\n",
    "        \n"
   ]
  },
  {
   "cell_type": "code",
   "execution_count": 15,
   "metadata": {},
   "outputs": [
    {
     "data": {
      "image/png": "[encoded data removed]",
      "text/plain": [
       "<Figure size 640x480 with 1 Axes>"
      ]
     },
     "metadata": {},
     "output_type": "display_data"
    }
   ],
   "source": [
    "pos_result_pth = \"E:\\Workspace\\Projects\\iGibson\\scripts/04/20231228061524.txt\"\n",
    "visualize_pos_result(pos_result_pth)"
   ]
  }
 ],
 "metadata": {
  "kernelspec": {
   "display_name": "igibson",
   "language": "python",
   "name": "python3"
  },
  "language_info": {
   "codemirror_mode": {
    "name": "ipython",
    "version": 3
   },
   "file_extension": ".py",
   "mimetype": "text/x-python",
   "name": "python",
   "nbconvert_exporter": "python",
   "pygments_lexer": "ipython3",
   "version": "3.8.18"
  }
 },
 "nbformat": 4,
 "nbformat_minor": 2
}

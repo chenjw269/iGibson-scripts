{
 "cells": [
  {
   "cell_type": "markdown",
   "metadata": {},
   "source": [
    "#### Available scene list"
   ]
  },
  {
   "cell_type": "code",
   "execution_count": 1,
   "metadata": {},
   "outputs": [],
   "source": [
    "import json\n",
    "\n",
    "\n",
    "f = open('../../01/01_scene_list/scene.json', \"r\")\n",
    "scene_json = json.load(f)\n",
    "\n",
    "# Available scene list\n",
    "scene_list = list(scene_json.keys())\n",
    "\n",
    "# Coordinate conversion\n",
    "scene_dict = scene_json\n",
    "\n",
    "f.close()"
   ]
  },
  {
   "cell_type": "markdown",
   "metadata": {},
   "source": [
    "#### Sample from trajectory"
   ]
  },
  {
   "cell_type": "code",
   "execution_count": 9,
   "metadata": {},
   "outputs": [],
   "source": [
    "import os\n",
    "from PIL import Image\n",
    "import matplotlib.pyplot as plt\n",
    "\n",
    "\n",
    "def vis_position(ds_pth, scene_id):\n",
    "    \n",
    "    sp_list = os.listdir(ds_pth)\n",
    "    fig, ax = plt.subplots()\n",
    "    ax.xaxis.set_visible(False)\n",
    "    ax.yaxis.set_visible(False)\n",
    "        \n",
    "    # Read map image\n",
    "    mp_pth = \"E:\\datasets\\iGibson-dataset\\scene_map/\"\n",
    "    mp_pth = f\"{mp_pth}/{scene_id}/{scene_id}.png\"\n",
    "    mp_img = Image.open(mp_pth).convert(\"RGB\")\n",
    "    plt.imshow(mp_img)\n",
    "    \n",
    "    # Read position ground truth\n",
    "    scene_trans = scene_dict[scene_id]\n",
    "    \n",
    "    sp_x = []\n",
    "    sp_y = []\n",
    "    \n",
    "    for sp in sp_list:\n",
    "        \n",
    "        sp_pth = f\"{ds_pth}/{sp}/gt/0000_0.txt\"\n",
    "        sp_fp = open(sp_pth, encoding=\"utf-8\")\n",
    "        sp_data = (sp_fp.readlines())[0].replace(\"\\n\", \"\").split(\",\")\n",
    "        sp_x.append(float(sp_data[0]) * scene_trans[2] + scene_trans[0])\n",
    "        sp_y.append(float(sp_data[1]) * scene_trans[2] + scene_trans[1])\n",
    "        \n",
    "    plt.scatter(sp_x, sp_y)\n",
    "    \n",
    "    plt.show()"
   ]
  },
  {
   "cell_type": "code",
   "execution_count": 10,
   "metadata": {},
   "outputs": [
    {
     "data": {
      "image/png": "[encoded data removed]",
      "text/plain": [
       "<Figure size 640x480 with 1 Axes>"
      ]
     },
     "metadata": {},
     "output_type": "display_data"
    }
   ],
   "source": [
    "ds_pth = \"E:/datasets/iGibson-dataset/position_rd_no_obj/Beechwood_1_int/\"\n",
    "scene_id = ds_pth.split(\"/\")[-2]\n",
    "\n",
    "vis_position(ds_pth, scene_id)"
   ]
  }
 ],
 "metadata": {
  "kernelspec": {
   "display_name": "igibson",
   "language": "python",
   "name": "python3"
  },
  "language_info": {
   "codemirror_mode": {
    "name": "ipython",
    "version": 3
   },
   "file_extension": ".py",
   "mimetype": "text/x-python",
   "name": "python",
   "nbconvert_exporter": "python",
   "pygments_lexer": "ipython3",
   "version": "3.8.18"
  }
 },
 "nbformat": 4,
 "nbformat_minor": 2
}

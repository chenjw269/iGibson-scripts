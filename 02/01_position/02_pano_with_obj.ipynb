{
 "cells": [
  {
   "cell_type": "markdown",
   "metadata": {},
   "source": [
    "#### Available scene list"
   ]
  },
  {
   "cell_type": "code",
   "execution_count": 1,
   "metadata": {},
   "outputs": [],
   "source": [
    "import json\n",
    "\n",
    "\n",
    "f = open('../../01/01_scene_list/scene.json', \"r\")\n",
    "scene_json = json.load(f)\n",
    "\n",
    "# Available scene list\n",
    "scene_list = list(scene_json.keys())\n",
    "\n",
    "# Coordinate conversion\n",
    "scene_dict = scene_json\n",
    "\n",
    "f.close()"
   ]
  },
  {
   "cell_type": "markdown",
   "metadata": {},
   "source": [
    "#### Sample from trajectory"
   ]
  },
  {
   "cell_type": "code",
   "execution_count": 2,
   "metadata": {},
   "outputs": [],
   "source": [
    "import random\n",
    "\n",
    "\n",
    "def random_sample(traj_pth, nums):\n",
    "    \n",
    "    traj_f = open(traj_pth, encoding=\"utf-8\")\n",
    "    traj = traj_f.readlines()\n",
    "    \n",
    "    if nums > len(traj):\n",
    "        raise(\"Length error\")\n",
    "    \n",
    "    random_idx = random.sample(range(0, len(traj)), nums)\n",
    "    \n",
    "    traj_sp = []\n",
    "    for idx in random_idx:\n",
    "        traj_sp.append(traj[idx])\n",
    "\n",
    "\n",
    "    return traj_sp\n",
    "    \n",
    "    \n",
    "def step_sample(traj_pth, nums):\n",
    "    \n",
    "    traj_f = open(traj_pth, encoding=\"utf-8\")\n",
    "    traj = traj_f.readlines()\n",
    "    \n",
    "    if nums > len(traj):\n",
    "        raise(\"Length error\")\n",
    "    \n",
    "    step = len(traj) // nums\n",
    "    \n",
    "    traj_sp = []\n",
    "    for idx in range(nums):\n",
    "        traj_sp.append(traj[idx * step])\n",
    "\n",
    "\n",
    "    return traj_sp\n",
    "    "
   ]
  },
  {
   "cell_type": "markdown",
   "metadata": {},
   "source": [
    "#### Sample Panorama without objects"
   ]
  },
  {
   "cell_type": "code",
   "execution_count": 3,
   "metadata": {},
   "outputs": [
    {
     "name": "stdout",
     "output_type": "stream",
     "text": [
      "\n",
      " _   _____  _  _\n",
      "(_) / ____|(_)| |\n",
      " _ | |  __  _ | |__   ___   ___   _ __\n",
      "| || | |_ || || '_ \\ / __| / _ \\ | '_ \\\n",
      "| || |__| || || |_) |\\__ \\| (_) || | | |\n",
      "|_| \\_____||_||_.__/ |___/ \\___/ |_| |_|\n",
      "\n"
     ]
    }
   ],
   "source": [
    "import os\n",
    "\n",
    "from sample_pos import sample_position\n",
    "\n",
    "\n",
    "def sample_pano_noobj(s_idx):\n",
    "    \n",
    "    scene_id = scene_list[s_idx]\n",
    "    \n",
    "    # Read position file\n",
    "    pos_pth = \"E:\\datasets\\iGibson-dataset\\scene_traj/\"\n",
    "    pos_pth = f\"{pos_pth}/{scene_id}/trajectory.txt\"\n",
    "    rd_pos = random_sample(pos_pth, 20)\n",
    "    \n",
    "    # Randomly sample position\n",
    "    rd_pos_pth = f\"E:\\datasets\\iGibson-dataset\\position_random/{scene_id}/\"\n",
    "    if not os.path.exists(rd_pos_pth):\n",
    "        os.makedirs(rd_pos_pth)\n",
    "    rd_pos_pth = f\"{rd_pos_pth}/positions.txt\"\n",
    "    rd_pos_fp = open(rd_pos_pth, \"w\", encoding=\"utf-8\")\n",
    "    for pos in rd_pos:\n",
    "        rd_pos_fp.write(pos)\n",
    "    rd_pos_fp.close()\n",
    "    \n",
    "    # Sample data\n",
    "    tgt_pth = f\"E:\\datasets\\iGibson-dataset\\position_rd_with_obj/{scene_id}/\"\n",
    "    if not os.path.exists(tgt_pth):\n",
    "        os.makedirs(tgt_pth)\n",
    "    sample_position(scene_id, rd_pos_pth, tgt_pth, with_obj=True)\n",
    "    "
   ]
  },
  {
   "cell_type": "code",
   "execution_count": 4,
   "metadata": {},
   "outputs": [
    {
     "name": "stdout",
     "output_type": "stream",
     "text": [
      "Beechwood_1_int\n"
     ]
    },
    {
     "name": "stderr",
     "output_type": "stream",
     "text": [
      "e:\\anaconda3\\envs\\igibson\\lib\\site-packages\\gym\\spaces\\box.py:127: UserWarning: \u001b[33mWARN: Box bound precision lowered by casting to float32\u001b[0m\n",
      "  logger.warn(f\"Box bound precision lowered by casting to {self.dtype}\")\n"
     ]
    },
    {
     "name": "stdout",
     "output_type": "stream",
     "text": [
      "Resetting environment... scene Beechwood_1_int\n"
     ]
    },
    {
     "name": "stderr",
     "output_type": "stream",
     "text": [
      "Beechwood_1_int: 100%|██████████| 20/20 [01:05<00:00,  3.30s/it]\n"
     ]
    },
    {
     "name": "stdout",
     "output_type": "stream",
     "text": [
      "Ihlen_0_int\n",
      "Resetting environment... scene Ihlen_0_int\n"
     ]
    },
    {
     "name": "stderr",
     "output_type": "stream",
     "text": [
      "Ihlen_0_int: 100%|██████████| 20/20 [00:29<00:00,  1.48s/it]\n"
     ]
    },
    {
     "name": "stdout",
     "output_type": "stream",
     "text": [
      "Ihlen_1_int\n"
     ]
    },
    {
     "name": "stderr",
     "output_type": "stream",
     "text": [
      "scene quality check: toilet_47 has joint that cannot extend for >66%.\n"
     ]
    },
    {
     "name": "stdout",
     "output_type": "stream",
     "text": [
      "Resetting environment... scene Ihlen_1_int\n"
     ]
    },
    {
     "name": "stderr",
     "output_type": "stream",
     "text": [
      "Ihlen_1_int: 100%|██████████| 20/20 [01:13<00:00,  3.67s/it]\n"
     ]
    },
    {
     "name": "stdout",
     "output_type": "stream",
     "text": [
      "Merom_0_int\n"
     ]
    },
    {
     "name": "stderr",
     "output_type": "stream",
     "text": [
      "scene quality check: bottom_cabinet_no_top_34 has joint that cannot extend for >66%.\n"
     ]
    },
    {
     "name": "stdout",
     "output_type": "stream",
     "text": [
      "Resetting environment... scene Merom_0_int\n"
     ]
    },
    {
     "name": "stderr",
     "output_type": "stream",
     "text": [
      "Merom_0_int: 100%|██████████| 20/20 [00:41<00:00,  2.10s/it]\n"
     ]
    },
    {
     "name": "stdout",
     "output_type": "stream",
     "text": [
      "Merom_1_int\n",
      "Resetting environment... scene Merom_1_int\n"
     ]
    },
    {
     "name": "stderr",
     "output_type": "stream",
     "text": [
      "Merom_1_int: 100%|██████████| 20/20 [01:25<00:00,  4.26s/it]\n"
     ]
    }
   ],
   "source": [
    "s_idx_list = [1, 3, 4, 5, 6]\n",
    "\n",
    "for s_idx in s_idx_list:\n",
    "    \n",
    "    print(scene_list[s_idx])\n",
    "    sample_pano_noobj(s_idx)\n",
    "    "
   ]
  }
 ],
 "metadata": {
  "kernelspec": {
   "display_name": "igibson",
   "language": "python",
   "name": "python3"
  },
  "language_info": {
   "codemirror_mode": {
    "name": "ipython",
    "version": 3
   },
   "file_extension": ".py",
   "mimetype": "text/x-python",
   "name": "python",
   "nbconvert_exporter": "python",
   "pygments_lexer": "ipython3",
   "version": "3.8.18"
  }
 },
 "nbformat": 4,
 "nbformat_minor": 2
}

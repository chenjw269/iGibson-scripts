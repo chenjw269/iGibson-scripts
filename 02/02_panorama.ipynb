{
 "cells": [
  {
   "cell_type": "markdown",
   "metadata": {},
   "source": [
    "#### Available scene list"
   ]
  },
  {
   "cell_type": "code",
   "execution_count": 1,
   "metadata": {},
   "outputs": [],
   "source": [
    "import json\n",
    "\n",
    "    \n",
    "f = open('../scene.json', \"r\")\n",
    "scene_json = json.load(f)\n",
    "\n",
    "scene_list = list(scene_json.keys())\n",
    "scene_dict = scene_json"
   ]
  },
  {
   "cell_type": "markdown",
   "metadata": {},
   "source": [
    "#### Sample positions from trajectory"
   ]
  },
  {
   "cell_type": "code",
   "execution_count": 2,
   "metadata": {},
   "outputs": [],
   "source": [
    "import os\n",
    "\n",
    "\n",
    "def sample_position(s_idx, r_idx, n_sample):\n",
    "    \n",
    "    scene_id = scene_list[s_idx]\n",
    "    \n",
    "    ds_pth = \"E:/Workspace/Datasets/iGibson-dataset/iGibson-area/\"\n",
    "    \n",
    "    traj_pth = f\"{ds_pth}/{scene_id}/{r_idx}/traj_sub.txt\"\n",
    "    traj_fp = open(traj_pth, encoding=\"utf-8\")\n",
    "    traj = traj_fp.readlines()\n",
    "    l_traj = len(traj)\n",
    "    print(f\"Traj length {l_traj}, adjusted length {n_sample}\")\n",
    "    \n",
    "    ds_pth = \"E:/Workspace/Datasets/iGibson-dataset/iGibson-panorama/\"\n",
    "    if not os.path.exists(f\"{ds_pth}/{scene_id}/{r_idx}\"):\n",
    "        os.makedirs(f\"{ds_pth}/{scene_id}/{r_idx}\")\n",
    "    pos_pth = f\"{ds_pth}/{scene_id}/{r_idx}/{scene_id}.txt\"\n",
    "    pos_fp = open(pos_pth, \"w\", encoding=\"utf-8\")\n",
    "    \n",
    "    if l_traj >= n_sample:\n",
    "        # The trajectory length is greater than threshold\n",
    "        print(f\"Sample trajectory in area {r_idx}\")\n",
    "        step = l_traj // n_sample\n",
    "        for idx in range(n_sample):\n",
    "            \n",
    "            pos = traj[idx * step]\n",
    "            pos_fp.write(pos)\n",
    "    else:\n",
    "        # The trajectory length is less than threshold\n",
    "        print(f\"Copy trajectory in area {r_idx}\")\n",
    "        times = n_sample // l_traj\n",
    "        threshold = n_sample % l_traj\n",
    "        pass"
   ]
  },
  {
   "cell_type": "code",
   "execution_count": 3,
   "metadata": {},
   "outputs": [
    {
     "name": "stdout",
     "output_type": "stream",
     "text": [
      "Traj length 629, adjusted length 200\n",
      "Sample trajectory in area 0\n",
      "Traj length 718, adjusted length 200\n",
      "Sample trajectory in area 1\n",
      "Traj length 478, adjusted length 200\n",
      "Sample trajectory in area 2\n",
      "Traj length 327, adjusted length 200\n",
      "Sample trajectory in area 3\n",
      "Traj length 476, adjusted length 200\n",
      "Sample trajectory in area 4\n",
      "Traj length 887, adjusted length 200\n",
      "Sample trajectory in area 0\n",
      "Traj length 458, adjusted length 200\n",
      "Sample trajectory in area 1\n",
      "Traj length 646, adjusted length 200\n",
      "Sample trajectory in area 0\n",
      "Traj length 303, adjusted length 200\n",
      "Sample trajectory in area 1\n",
      "Traj length 427, adjusted length 200\n",
      "Sample trajectory in area 2\n",
      "Traj length 733, adjusted length 200\n",
      "Sample trajectory in area 3\n",
      "Traj length 536, adjusted length 200\n",
      "Sample trajectory in area 4\n",
      "Traj length 624, adjusted length 200\n",
      "Sample trajectory in area 5\n",
      "Traj length 505, adjusted length 200\n",
      "Sample trajectory in area 0\n",
      "Traj length 382, adjusted length 200\n",
      "Sample trajectory in area 1\n",
      "Traj length 465, adjusted length 200\n",
      "Sample trajectory in area 2\n",
      "Traj length 543, adjusted length 200\n",
      "Sample trajectory in area 0\n",
      "Traj length 338, adjusted length 200\n",
      "Sample trajectory in area 1\n",
      "Traj length 338, adjusted length 200\n",
      "Sample trajectory in area 2\n",
      "Traj length 244, adjusted length 200\n",
      "Sample trajectory in area 3\n",
      "Traj length 215, adjusted length 200\n",
      "Sample trajectory in area 4\n",
      "Traj length 462, adjusted length 200\n",
      "Sample trajectory in area 5\n"
     ]
    }
   ],
   "source": [
    "s_idx = 1\n",
    "for r_idx in range(5):\n",
    "    sample_position(s_idx, r_idx, 200)\n",
    "\n",
    "s_idx = 3\n",
    "for r_idx in range(2):\n",
    "    sample_position(s_idx, r_idx, 200)\n",
    "    \n",
    "s_idx = 4\n",
    "for r_idx in range(6):\n",
    "    sample_position(s_idx, r_idx, 200)\n",
    "    \n",
    "s_idx = 5\n",
    "for r_idx in range(3):\n",
    "    sample_position(s_idx, r_idx, 200)\n",
    "    \n",
    "s_idx = 6\n",
    "for r_idx in range(6):\n",
    "    sample_position(s_idx, r_idx, 200)"
   ]
  },
  {
   "cell_type": "markdown",
   "metadata": {},
   "source": [
    "#### Visualize sample positions"
   ]
  },
  {
   "cell_type": "code",
   "execution_count": 4,
   "metadata": {},
   "outputs": [],
   "source": [
    "from PIL import Image\n",
    "import matplotlib.pyplot as plt\n",
    "\n",
    "\n",
    "def visualize_panorama_sp(s_idx, r_idx):\n",
    "    \n",
    "    scene_id = scene_list[s_idx]\n",
    "    \n",
    "    fig = plt.figure(figsize=(20, 20))\n",
    "    axes = fig.add_subplot(1, 1, 1)\n",
    "    \n",
    "    # Visualize map image\n",
    "    ds_pth = \"E:/Workspace/Datasets/iGibson-dataset/iGibson-map/\"\n",
    "    img_pth = f\"{ds_pth}/{scene_id}/{scene_id}.png\"\n",
    "    img = Image.open(img_pth).convert(\"RGB\")\n",
    "    plt.imshow(img)\n",
    "    \n",
    "    # Visualize sample position\n",
    "    ds_pth = \"E:/Workspace/Datasets/iGibson-dataset/iGibson-panorama/\"\n",
    "    gt_pth = f\"{ds_pth}/{scene_id}/{r_idx}/{scene_id}.txt\"\n",
    "    gt_positions = []\n",
    "\n",
    "    gt_fp = open(gt_pth, encoding=\"utf-8\")\n",
    "    for gt_p in gt_fp.readlines():\n",
    "        gt_p = ((gt_p).replace(\"\\n\", \"\")).split(\",\")\n",
    "        gt_positions.append((gt_p[0], gt_p[1]))\n",
    "\n",
    "    # Translate sample position to map coordinate\n",
    "    scene_trans = scene_dict[scene_id]\n",
    "\n",
    "    traj_x = []\n",
    "    traj_y = []\n",
    "    \n",
    "    for gt_p in gt_positions:\n",
    "        \n",
    "        pos_x = float(gt_p[0]) * scene_trans[2] + scene_trans[0]\n",
    "        pos_y = float(gt_p[1]) * scene_trans[2] + scene_trans[1]\n",
    "        traj_x.append(pos_x)\n",
    "        traj_y.append(pos_y)    \n",
    "        \n",
    "    plt.scatter(traj_x, traj_y)\n",
    "    plt.savefig(f\"{ds_pth}/{scene_id}/{r_idx}/sample_position.png\")"
   ]
  },
  {
   "cell_type": "code",
   "execution_count": 5,
   "metadata": {},
   "outputs": [
    {
     "name": "stderr",
     "output_type": "stream",
     "text": [
      "C:\\Users\\12871\\AppData\\Local\\Temp\\ipykernel_21800\\1528735549.py:9: RuntimeWarning: More than 20 figures have been opened. Figures created through the pyplot interface (`matplotlib.pyplot.figure`) are retained until explicitly closed and may consume too much memory. (To control this warning, see the rcParam `figure.max_open_warning`). Consider using `matplotlib.pyplot.close()`.\n",
      "  fig = plt.figure(figsize=(20, 20))\n"
     ]
    }
   ],
   "source": [
    "s_idx = 1\n",
    "for r_idx in range(5):\n",
    "    visualize_panorama_sp(s_idx, r_idx)\n",
    "    plt.cla()\n",
    "\n",
    "s_idx = 3\n",
    "for r_idx in range(2):\n",
    "    visualize_panorama_sp(s_idx, r_idx)\n",
    "    plt.cla()\n",
    "    \n",
    "s_idx = 4\n",
    "for r_idx in range(6):\n",
    "    visualize_panorama_sp(s_idx, r_idx)\n",
    "    plt.cla()\n",
    "    \n",
    "s_idx = 5\n",
    "for r_idx in range(3):\n",
    "    visualize_panorama_sp(s_idx, r_idx)\n",
    "    plt.cla()\n",
    "    \n",
    "s_idx = 6\n",
    "for r_idx in range(6):\n",
    "    visualize_panorama_sp(s_idx, r_idx)\n",
    "    plt.cla()\n",
    "    \n",
    "plt.close(\"all\")"
   ]
  },
  {
   "cell_type": "markdown",
   "metadata": {},
   "source": [
    "#### Sample data"
   ]
  },
  {
   "cell_type": "code",
   "execution_count": 6,
   "metadata": {},
   "outputs": [
    {
     "name": "stdout",
     "output_type": "stream",
     "text": [
      "\n",
      " _   _____  _  _\n",
      "(_) / ____|(_)| |\n",
      " _ | |  __  _ | |__   ___   ___   _ __\n",
      "| || | |_ || || '_ \\ / __| / _ \\ | '_ \\\n",
      "| || |__| || || |_) |\\__ \\| (_) || | | |\n",
      "|_| \\_____||_||_.__/ |___/ \\___/ |_| |_|\n",
      "\n"
     ]
    }
   ],
   "source": [
    "import os\n",
    "import yaml\n",
    "import numpy as np\n",
    "import random\n",
    "\n",
    "from tqdm import tqdm\n",
    "\n",
    "from utils import *\n",
    "\n",
    "import igibson\n",
    "from igibson.envs.igibson_env import iGibsonEnv\n",
    "from igibson.render.profiler import Profiler\n",
    "\n",
    "\n",
    "def sample_scene(s_idx, r_idx, n_sample=None):\n",
    "    \n",
    "    scene_id = scene_list[s_idx]\n",
    "    \n",
    "    # Read sample positions\n",
    "    pos_pth = f\"E:/Workspace/Datasets/iGibson-dataset/iGibson-panorama/\"\n",
    "    pos_pth = f\"{pos_pth}/{scene_id}/{r_idx}/{scene_id}.txt\"\n",
    "    \n",
    "    poses = []\n",
    "    pos_fp = open(pos_pth, \"r\", encoding=\"utf-8\")\n",
    "    for pos_l in pos_fp:\n",
    "        pos_l = pos_l.replace(\"\\n\", \"\")\n",
    "        pos_l = pos_l.split(\",\")\n",
    "        poses.append((float(pos_l[0]), float(pos_l[1]), 1.0, float(pos_l[2])))\n",
    "    \n",
    "    if n_sample is not None:\n",
    "        assert n_sample < len(poses)\n",
    "    else:\n",
    "        n_sample = len(poses)\n",
    "\n",
    "    # Sample data\n",
    "    tgt_ds_pth = \"E:/Workspace/Datasets/iGibson-dataset/iGibson-pano-data/\"\n",
    "    tgt_pth = f\"{tgt_ds_pth}/{scene_id}/{r_idx}/\"\n",
    "        \n",
    "    config_filename = os.path.join(igibson.configs_path, \"turtlebot_nav.yaml\")\n",
    "    config_data = yaml.load(open(config_filename, \"r\"), Loader=yaml.FullLoader)\n",
    "    \n",
    "    # 启动阴影和基于物理的渲染 (optional)\n",
    "    config_data[\"enable_shadow\"] = True\n",
    "    config_data[\"enable_pbr\"] = True\n",
    "    config_data[\"output\"] = [\"rgb\", \"depth\", \"seg\", \"ins_seg\", \"normal\"]\n",
    "    \n",
    "    config_data[\"load_object_categories\"] = []  # Uncomment this line to accelerate loading with only the building\n",
    "    config_data[\"visible_target\"] = False\n",
    "    config_data[\"visible_path\"] = False\n",
    "    # Set specific scene\n",
    "    config_data[\"scene_id\"] = scene_id\n",
    "    \n",
    "    env = iGibsonEnv(config_file=config_data, scene_id=scene_id, mode=\"gui_interactive\")\n",
    "    s = env.simulator\n",
    "\n",
    "    # Set a better viewing direction\n",
    "    # s.viewer.initial_pos = [-2, 1.4, 1.2]\n",
    "    # s.viewer.initial_view_direction = [0.6, -0.8, 0.1]\n",
    "    # s.viewer.reset_viewer()\n",
    "    \n",
    "    print(f\"Resetting environment... scene {scene_id}, room {r_idx}\")\n",
    "    env.reset()\n",
    "        \n",
    "    # Sample data of each position\n",
    "    for p_idx in tqdm(range(len(poses)), desc=f\"{scene_id} {r_idx}\"):\n",
    "        \n",
    "        env.reset()\n",
    "        # print(\"==============================\")\n",
    "        # with Profiler(\"Environment action step\"):\n",
    "        state, reward, done, info = env.step([0.0, 0.0])\n",
    "        \n",
    "        position = poses[p_idx][:3]\n",
    "        env.robots[0].set_position(position)\n",
    "        \n",
    "        # rotation_angle = random.uniform(0, 360)\n",
    "        # rotation = euler_to_quaternion(0.0, 0.0, rotation_angle)\n",
    "        # rotation = poses[p_idx][3]\n",
    "        # rotation = euler_to_quaternion(0.0, 0.0, rotation)\n",
    "        # env.robots[0].set_orientation(rotation)\n",
    "        \n",
    "        index = \"{:04d}\".format(p_idx)\n",
    "        # sample_data(env, index, tgt_pth)\n",
    "        \n",
    "        if not os.path.exists(f\"{tgt_pth}/{p_idx}/gt/\"):\n",
    "            os.makedirs(f\"{tgt_pth}/{p_idx}/gt/\")\n",
    "        gt_f = open(f\"{tgt_pth}/{p_idx}/gt/0000.txt\", \"w\", encoding=\"utf-8\")\n",
    "        gt_f.write(f\"{position[0]},{position[1]},{position[2]}\")\n",
    "        \n",
    "        # rotate and sample data\n",
    "        for idx, deg in enumerate(range(0, 360, 45)):\n",
    "            q = euler_to_quaternion(0.0, 0.0, deg)\n",
    "            env.robots[0].set_orientation(q)\n",
    "            index = \"{:04d}\".format(0) + f\"_{idx}\"\n",
    "            # \n",
    "            sample_data(env, index, f\"{tgt_pth}/{p_idx}\")\n",
    "            \n",
    "            # robot_position = env.robots[0].get_position()\n",
    "            # print(robot_position)\n",
    "            # robot_orientation = env.robots[0].get_orientation()\n",
    "            # print(robot_orientation)"
   ]
  },
  {
   "cell_type": "code",
   "execution_count": 7,
   "metadata": {},
   "outputs": [
    {
     "name": "stderr",
     "output_type": "stream",
     "text": [
      "e:\\anaconda3\\envs\\igibson\\lib\\site-packages\\gym\\spaces\\box.py:127: UserWarning: \u001b[33mWARN: Box bound precision lowered by casting to float32\u001b[0m\n",
      "  logger.warn(f\"Box bound precision lowered by casting to {self.dtype}\")\n"
     ]
    },
    {
     "name": "stdout",
     "output_type": "stream",
     "text": [
      "Resetting environment... scene Beechwood_1_int, room 0\n"
     ]
    },
    {
     "name": "stderr",
     "output_type": "stream",
     "text": [
      "Beechwood_1_int 0: 100%|██████████| 200/200 [02:22<00:00,  1.40it/s]\n"
     ]
    },
    {
     "name": "stdout",
     "output_type": "stream",
     "text": [
      "Resetting environment... scene Beechwood_1_int, room 1\n"
     ]
    },
    {
     "name": "stderr",
     "output_type": "stream",
     "text": [
      "Beechwood_1_int 1: 100%|██████████| 200/200 [02:31<00:00,  1.32it/s]\n"
     ]
    },
    {
     "name": "stdout",
     "output_type": "stream",
     "text": [
      "Resetting environment... scene Beechwood_1_int, room 2\n"
     ]
    },
    {
     "name": "stderr",
     "output_type": "stream",
     "text": [
      "Beechwood_1_int 2: 100%|██████████| 200/200 [02:30<00:00,  1.33it/s]\n"
     ]
    },
    {
     "name": "stdout",
     "output_type": "stream",
     "text": [
      "Resetting environment... scene Beechwood_1_int, room 3\n"
     ]
    },
    {
     "name": "stderr",
     "output_type": "stream",
     "text": [
      "Beechwood_1_int 3: 100%|██████████| 200/200 [02:34<00:00,  1.29it/s]\n"
     ]
    },
    {
     "name": "stdout",
     "output_type": "stream",
     "text": [
      "Resetting environment... scene Beechwood_1_int, room 4\n"
     ]
    },
    {
     "name": "stderr",
     "output_type": "stream",
     "text": [
      "Beechwood_1_int 4: 100%|██████████| 200/200 [02:30<00:00,  1.33it/s]\n"
     ]
    },
    {
     "name": "stdout",
     "output_type": "stream",
     "text": [
      "Resetting environment... scene Ihlen_0_int, room 0\n"
     ]
    },
    {
     "name": "stderr",
     "output_type": "stream",
     "text": [
      "Ihlen_0_int 0: 100%|██████████| 200/200 [02:31<00:00,  1.32it/s]\n"
     ]
    },
    {
     "name": "stdout",
     "output_type": "stream",
     "text": [
      "Resetting environment... scene Ihlen_0_int, room 1\n"
     ]
    },
    {
     "name": "stderr",
     "output_type": "stream",
     "text": [
      "Ihlen_0_int 1: 100%|██████████| 200/200 [02:27<00:00,  1.36it/s]\n"
     ]
    },
    {
     "name": "stdout",
     "output_type": "stream",
     "text": [
      "Resetting environment... scene Ihlen_1_int, room 0\n"
     ]
    },
    {
     "name": "stderr",
     "output_type": "stream",
     "text": [
      "Ihlen_1_int 0: 100%|██████████| 200/200 [02:26<00:00,  1.37it/s]\n"
     ]
    },
    {
     "name": "stdout",
     "output_type": "stream",
     "text": [
      "Resetting environment... scene Ihlen_1_int, room 1\n"
     ]
    },
    {
     "name": "stderr",
     "output_type": "stream",
     "text": [
      "Ihlen_1_int 1: 100%|██████████| 200/200 [02:21<00:00,  1.41it/s]\n"
     ]
    },
    {
     "name": "stdout",
     "output_type": "stream",
     "text": [
      "Resetting environment... scene Ihlen_1_int, room 2\n"
     ]
    },
    {
     "name": "stderr",
     "output_type": "stream",
     "text": [
      "Ihlen_1_int 2: 100%|██████████| 200/200 [02:20<00:00,  1.43it/s]\n"
     ]
    },
    {
     "name": "stdout",
     "output_type": "stream",
     "text": [
      "Resetting environment... scene Ihlen_1_int, room 3\n"
     ]
    },
    {
     "name": "stderr",
     "output_type": "stream",
     "text": [
      "Ihlen_1_int 3: 100%|██████████| 200/200 [02:15<00:00,  1.48it/s]\n"
     ]
    },
    {
     "name": "stdout",
     "output_type": "stream",
     "text": [
      "Resetting environment... scene Ihlen_1_int, room 4\n"
     ]
    },
    {
     "name": "stderr",
     "output_type": "stream",
     "text": [
      "Ihlen_1_int 4: 100%|██████████| 200/200 [02:15<00:00,  1.47it/s]\n"
     ]
    },
    {
     "name": "stdout",
     "output_type": "stream",
     "text": [
      "Resetting environment... scene Ihlen_1_int, room 5\n"
     ]
    },
    {
     "name": "stderr",
     "output_type": "stream",
     "text": [
      "Ihlen_1_int 5: 100%|██████████| 200/200 [02:17<00:00,  1.46it/s]\n"
     ]
    },
    {
     "name": "stdout",
     "output_type": "stream",
     "text": [
      "Resetting environment... scene Merom_0_int, room 0\n"
     ]
    },
    {
     "name": "stderr",
     "output_type": "stream",
     "text": [
      "Merom_0_int 0: 100%|██████████| 200/200 [02:12<00:00,  1.51it/s]\n"
     ]
    },
    {
     "name": "stdout",
     "output_type": "stream",
     "text": [
      "Resetting environment... scene Merom_0_int, room 1\n"
     ]
    },
    {
     "name": "stderr",
     "output_type": "stream",
     "text": [
      "Merom_0_int 1: 100%|██████████| 200/200 [02:18<00:00,  1.44it/s]\n"
     ]
    },
    {
     "name": "stdout",
     "output_type": "stream",
     "text": [
      "Resetting environment... scene Merom_0_int, room 2\n"
     ]
    },
    {
     "name": "stderr",
     "output_type": "stream",
     "text": [
      "Merom_0_int 2: 100%|██████████| 200/200 [02:21<00:00,  1.41it/s]\n"
     ]
    },
    {
     "name": "stdout",
     "output_type": "stream",
     "text": [
      "Resetting environment... scene Merom_1_int, room 0\n"
     ]
    },
    {
     "name": "stderr",
     "output_type": "stream",
     "text": [
      "Merom_1_int 0: 100%|██████████| 200/200 [02:08<00:00,  1.55it/s]\n"
     ]
    },
    {
     "name": "stdout",
     "output_type": "stream",
     "text": [
      "Resetting environment... scene Merom_1_int, room 1\n"
     ]
    },
    {
     "name": "stderr",
     "output_type": "stream",
     "text": [
      "Merom_1_int 1: 100%|██████████| 200/200 [02:10<00:00,  1.53it/s]\n"
     ]
    },
    {
     "name": "stdout",
     "output_type": "stream",
     "text": [
      "Resetting environment... scene Merom_1_int, room 2\n"
     ]
    },
    {
     "name": "stderr",
     "output_type": "stream",
     "text": [
      "Merom_1_int 2: 100%|██████████| 200/200 [02:02<00:00,  1.63it/s]\n"
     ]
    },
    {
     "name": "stdout",
     "output_type": "stream",
     "text": [
      "Resetting environment... scene Merom_1_int, room 3\n"
     ]
    },
    {
     "name": "stderr",
     "output_type": "stream",
     "text": [
      "Merom_1_int 3: 100%|██████████| 200/200 [02:12<00:00,  1.51it/s]\n"
     ]
    },
    {
     "name": "stdout",
     "output_type": "stream",
     "text": [
      "Resetting environment... scene Merom_1_int, room 4\n"
     ]
    },
    {
     "name": "stderr",
     "output_type": "stream",
     "text": [
      "Merom_1_int 4: 100%|██████████| 200/200 [02:05<00:00,  1.59it/s]\n"
     ]
    },
    {
     "name": "stdout",
     "output_type": "stream",
     "text": [
      "Resetting environment... scene Merom_1_int, room 5\n"
     ]
    },
    {
     "name": "stderr",
     "output_type": "stream",
     "text": [
      "Merom_1_int 5: 100%|██████████| 200/200 [02:11<00:00,  1.52it/s]\n"
     ]
    }
   ],
   "source": [
    "s_idx = 1\n",
    "for r_idx in range(5):\n",
    "    sample_scene(s_idx, r_idx)\n",
    "\n",
    "s_idx = 3\n",
    "for r_idx in range(2):\n",
    "    sample_scene(s_idx, r_idx)\n",
    "    \n",
    "s_idx = 4\n",
    "for r_idx in range(6):\n",
    "    sample_scene(s_idx, r_idx)\n",
    "    \n",
    "s_idx = 5\n",
    "for r_idx in range(3):\n",
    "    sample_scene(s_idx, r_idx)\n",
    "    \n",
    "s_idx = 6\n",
    "for r_idx in range(6):\n",
    "    sample_scene(s_idx, r_idx)"
   ]
  },
  {
   "cell_type": "markdown",
   "metadata": {},
   "source": [
    "#### Preprocess: depth image"
   ]
  },
  {
   "cell_type": "code",
   "execution_count": 12,
   "metadata": {},
   "outputs": [],
   "source": [
    "import os\n",
    "from PIL import Image\n",
    "import numpy as np\n",
    "from tqdm import tqdm\n",
    "\n",
    "\n",
    "def preprocess_depth(s_idx, r_idx):\n",
    "    \n",
    "    scene_id = scene_list[s_idx]\n",
    "    \n",
    "    ds_pth = \"E:/Workspace/Datasets/iGibson-dataset/iGibson-pano-data/\"\n",
    "    ds_dir = f\"{ds_pth}/{scene_id}/{r_idx}/\"\n",
    "    \n",
    "    sp_list = os.listdir(ds_dir)\n",
    "    for sp in tqdm(sp_list):\n",
    "        \n",
    "        sp_dir = f\"{ds_dir}/{sp}/\"\n",
    "        \n",
    "        src_dir = f\"{sp_dir}/d/\"\n",
    "        tgt_dir = f\"{sp_dir}/d_processed/\"\n",
    "        if not os.path.exists(tgt_dir):\n",
    "            os.makedirs(tgt_dir)\n",
    "        \n",
    "        for d_pth in os.listdir(src_dir):\n",
    "            \n",
    "            d = np.array(Image.open(f\"{src_dir}/{d_pth}\").convert(\"L\"))\n",
    "            d[d == 0] = 255\n",
    "            d = Image.fromarray(d)\n",
    "            \n",
    "            d.save(f\"{tgt_dir}/{d_pth}\")"
   ]
  },
  {
   "cell_type": "code",
   "execution_count": 13,
   "metadata": {},
   "outputs": [],
   "source": [
    "s_idx = 1\n",
    "for r_idx in range(5):\n",
    "    preprocess_depth(s_idx, r_idx)\n",
    "\n",
    "s_idx = 3\n",
    "for r_idx in range(2):\n",
    "    preprocess_depth(s_idx, r_idx)\n",
    "    \n",
    "s_idx = 4\n",
    "for r_idx in range(6):\n",
    "    preprocess_depth(s_idx, r_idx)\n",
    "    \n",
    "s_idx = 5\n",
    "for r_idx in range(3):\n",
    "    preprocess_depth(s_idx, r_idx)\n",
    "    \n",
    "s_idx = 6\n",
    "for r_idx in range(6):\n",
    "    preprocess_depth(s_idx, r_idx)"
   ]
  }
 ],
 "metadata": {
  "kernelspec": {
   "display_name": "igibson",
   "language": "python",
   "name": "python3"
  },
  "language_info": {
   "codemirror_mode": {
    "name": "ipython",
    "version": 3
   },
   "file_extension": ".py",
   "mimetype": "text/x-python",
   "name": "python",
   "nbconvert_exporter": "python",
   "pygments_lexer": "ipython3",
   "version": "3.8.18"
  }
 },
 "nbformat": 4,
 "nbformat_minor": 2
}
